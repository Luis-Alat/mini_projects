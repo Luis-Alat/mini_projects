{
 "cells": [
  {
   "attachments": {},
   "cell_type": "markdown",
   "id": "c763b34f-e42e-4ba3-bc96-b4f9522b3f53",
   "metadata": {
    "id": "c763b34f-e42e-4ba3-bc96-b4f9522b3f53"
   },
   "source": [
    "## Loading libraries and data"
   ]
  },
  {
   "cell_type": "code",
   "execution_count": 1,
   "id": "a1951bdb-9aca-496d-a4f4-739c298675de",
   "metadata": {
    "id": "a1951bdb-9aca-496d-a4f4-739c298675de"
   },
   "outputs": [
    {
     "name": "stderr",
     "output_type": "stream",
     "text": [
      "/home/lromero/mambaforge/envs/DataScience/lib/python3.10/site-packages/xgboost/compat.py:36: FutureWarning: pandas.Int64Index is deprecated and will be removed from pandas in a future version. Use pandas.Index with the appropriate dtype instead.\n",
      "  from pandas import MultiIndex, Int64Index\n"
     ]
    }
   ],
   "source": [
    "from time import time\n",
    "import joblib\n",
    "import gc\n",
    "\n",
    "import pandas as pd\n",
    "import numpy as np\n",
    "\n",
    "from sklearn.metrics import classification_report, confusion_matrix, \\\n",
    "                            f1_score, accuracy_score, recall_score, \\\n",
    "                            precision_score\n",
    "from sklearn.model_selection import train_test_split\n",
    "from sklearn.ensemble import RandomForestClassifier, BaggingClassifier\n",
    "from sklearn.svm import SVC\n",
    "from sklearn.naive_bayes import MultinomialNB\n",
    "from sklearn.feature_extraction.text import TfidfVectorizer\n",
    "from sklearn.feature_selection import SelectKBest, chi2\n",
    "\n",
    "import xgboost as xgb"
   ]
  },
  {
   "cell_type": "code",
   "execution_count": 2,
   "id": "ebh53LErRkxu",
   "metadata": {
    "id": "ebh53LErRkxu"
   },
   "outputs": [],
   "source": [
    "def CreateFullReport(model_name, model_obj, y_true, y_predict, time_train, time_predict, n_features):\n",
    "\n",
    "    report = classification_report(y_true, y_predict)\n",
    "    cm_matrix = pd.DataFrame(confusion_matrix(y_true, y_predict, labels=[0,1,2]))\n",
    "        \n",
    "    f1_result = f1_score(y_true, y_predict, labels=[0,1,2], average=\"macro\")\n",
    "    accuracy_result = accuracy_score(y_true, y_predict)\n",
    "    recall_result = recall_score(y_true, y_predict, labels=[0,1,2], average=\"macro\")\n",
    "    precision_result = precision_score(y_true, y_predict, labels=[0,1,2], average=\"macro\")\n",
    "  \n",
    "    # Saving the values of the experiment\n",
    "    current_report = ({\"chi2\": n_features},\n",
    "                      {model_name: model_obj},\n",
    "                      {\"scores\":\n",
    "                       {\n",
    "                           \"f1_score\": f1_result,\n",
    "                           \"accuracy\": accuracy_result,\n",
    "                           \"recall\": recall_result,\n",
    "                           \"precision\": precision_result,\n",
    "                           \"cm\": cm_matrix,\n",
    "                           \"report\": report\n",
    "                       }\n",
    "                      },\n",
    "                      {\"time\":\n",
    "                       {\n",
    "                           \"training\": time_train,\n",
    "                           \"prediction\":time_predict\n",
    "                       }\n",
    "                      })\n",
    "  \n",
    "    return current_report"
   ]
  },
  {
   "cell_type": "code",
   "execution_count": 3,
   "id": "92db1e79-d1e8-44ee-8c85-b0572ff2c264",
   "metadata": {
    "id": "92db1e79-d1e8-44ee-8c85-b0572ff2c264"
   },
   "outputs": [
    {
     "name": "stdout",
     "output_type": "stream",
     "text": [
      "<class 'pandas.core.frame.DataFrame'>\n",
      "RangeIndex: 704019 entries, 0 to 704018\n",
      "Data columns (total 2 columns):\n",
      " #   Column   Non-Null Count   Dtype \n",
      "---  ------   --------------   ----- \n",
      " 0   comment  704019 non-null  object\n",
      " 1   class    704019 non-null  int8  \n",
      "dtypes: int8(1), object(1)\n",
      "memory usage: 6.0+ MB\n"
     ]
    }
   ],
   "source": [
    "Xy_data = pd.read_feather(\"data/labeled_data_clean.feather\")\n",
    "Xy_data[\"comment\"] = Xy_data[\"comment\"].transform(list)\n",
    "\n",
    "Xy_data.info()"
   ]
  },
  {
   "cell_type": "code",
   "execution_count": 4,
   "id": "479914d6-aa2e-49c7-81bd-6c81592397d8",
   "metadata": {
    "id": "479914d6-aa2e-49c7-81bd-6c81592397d8"
   },
   "outputs": [
    {
     "data": {
      "text/plain": [
       "1    313661\n",
       "0    199718\n",
       "2    190640\n",
       "Name: class, dtype: int64"
      ]
     },
     "execution_count": 4,
     "metadata": {},
     "output_type": "execute_result"
    }
   ],
   "source": [
    "Xy_data[\"class\"].value_counts()"
   ]
  },
  {
   "cell_type": "code",
   "execution_count": 5,
   "id": "031e4474-d53e-4138-ae80-bdb69fe8587a",
   "metadata": {
    "id": "031e4474-d53e-4138-ae80-bdb69fe8587a"
   },
   "outputs": [
    {
     "name": "stdout",
     "output_type": "stream",
     "text": [
      "Shufling data 5 time\n"
     ]
    }
   ],
   "source": [
    "print(\"Shufling data 5 time\")\n",
    "for i in range(5):\n",
    "    Xy_data = Xy_data.sample(Xy_data.shape[0], replace=False)"
   ]
  },
  {
   "attachments": {},
   "cell_type": "markdown",
   "id": "5540570c-2f06-42a3-9f3a-c816e5d3daa7",
   "metadata": {
    "id": "5540570c-2f06-42a3-9f3a-c816e5d3daa7"
   },
   "source": [
    "## Experimental grid definition"
   ]
  },
  {
   "attachments": {},
   "cell_type": "markdown",
   "id": "a057076e-fc34-4f15-b38b-225f836b9299",
   "metadata": {
    "id": "a057076e-fc34-4f15-b38b-225f836b9299"
   },
   "source": [
    "### Models parameters"
   ]
  },
  {
   "cell_type": "code",
   "execution_count": 6,
   "id": "163aa517-1913-4f43-b960-5cba16224583",
   "metadata": {
    "id": "163aa517-1913-4f43-b960-5cba16224583"
   },
   "outputs": [],
   "source": [
    "# SVM doesn't work for 500 and 250\n",
    "select_k_features = [2000, 1000, 500, 250]\n",
    "\n",
    "model_parameters = {\n",
    "    \n",
    "    \"random_forest\": {},\n",
    "    \n",
    "    \"svm_linear\": {\n",
    "        \"kernel\":\"linear\",\n",
    "        \"class_weight\":\"balanced\"\n",
    "    },\n",
    "    \n",
    "    \"multinomial\": {}\n",
    "   \n",
    "}\n",
    "\n",
    "bagging_models = {\n",
    "    \n",
    "    \"random_forest\": None,\n",
    "    \"svm_linear\": SVC,\n",
    "    \"multinomial\": MultinomialNB\n",
    "    \n",
    "}\n",
    "\n",
    "bagging_parameters = {\n",
    "\n",
    "    \"random_forest\":{\n",
    "        \"n_jobs\": 6,\n",
    "        \"verbose\":1\n",
    "    },\n",
    "    \n",
    "    \"svm_linear\": {\n",
    "        \"max_samples\": 1.0 / 10,\n",
    "        \"n_estimators\": 10,\n",
    "        \"verbose\": 2,\n",
    "        \"n_jobs\": 6\n",
    "    },\n",
    "    \n",
    "    \"multinomial\":{\n",
    "        \"n_jobs\": 6,\n",
    "        \"verbose\": 1\n",
    "    }\n",
    "\n",
    "}\n",
    "\n",
    "bagging_definition = {\n",
    "    \n",
    "    \"random_forest\": RandomForestClassifier,\n",
    "    \"svm_linear\": BaggingClassifier,\n",
    "    \"multinomial\": BaggingClassifier\n",
    "\n",
    "}\n",
    "\n",
    "boosting_parameters = {\n",
    "    \n",
    "    \"xgb\":{\n",
    "\n",
    "        \"tree_method\": \"hist\",\n",
    "        \"objective\": \"multi:softprob\",\n",
    "        \"n_estimators\": 1000,\n",
    "        \"verbosity\": 1,\n",
    "        \"n_jobs\": 5\n",
    "\n",
    "    }\n",
    "\n",
    "}\n",
    "\n",
    "boosting_options = {\n",
    "    \n",
    "    \"xgb\":xgb.XGBClassifier\n",
    "\n",
    "}"
   ]
  },
  {
   "attachments": {},
   "cell_type": "markdown",
   "id": "73367a4c-0c74-4f75-9443-9d2458ca678b",
   "metadata": {
    "id": "73367a4c-0c74-4f75-9443-9d2458ca678b"
   },
   "source": [
    "### Train/test split"
   ]
  },
  {
   "cell_type": "code",
   "execution_count": 7,
   "id": "ba96b01a-b6a5-40ad-aca6-f4b6132cc4cb",
   "metadata": {
    "id": "ba96b01a-b6a5-40ad-aca6-f4b6132cc4cb"
   },
   "outputs": [
    {
     "name": "stdout",
     "output_type": "stream",
     "text": [
      "X_train shape: (492813,)\n",
      "y_train shape: (492813,)\n",
      "X_test shape: (211206,)\n",
      "y_test shape: (211206,)\n"
     ]
    }
   ],
   "source": [
    "X_train, X_test, y_train, y_test = train_test_split(Xy_data[\"comment\"],\n",
    "                                                    Xy_data[\"class\"],\n",
    "                                                    train_size = 0.7)\n",
    "\n",
    "print(f\"X_train shape: {X_train.shape}\")\n",
    "print(f\"y_train shape: {y_train.shape}\")\n",
    "print(f\"X_test shape: {X_test.shape}\")\n",
    "print(f\"y_test shape: {y_test.shape}\")"
   ]
  },
  {
   "attachments": {},
   "cell_type": "markdown",
   "id": "91f56bd1-96a7-451a-8d85-031bebca8136",
   "metadata": {
    "id": "91f56bd1-96a7-451a-8d85-031bebca8136"
   },
   "source": [
    "### Feature selection and running grid"
   ]
  },
  {
   "cell_type": "code",
   "execution_count": null,
   "id": "808aa104-ea49-4fde-a8f8-4f6a12fdff0d",
   "metadata": {
    "id": "808aa104-ea49-4fde-a8f8-4f6a12fdff0d"
   },
   "outputs": [],
   "source": [
    "print(\"Vectorizing data\")\n",
    "tfidf_model = TfidfVectorizer(min_df = 10)\n",
    "X_vect = tfidf_model.fit_transform(Xy_data[\"comment\"].apply(\" \".join))\n",
    "\n",
    "X_train = tfidf_model.transform(X_train.apply(\" \".join))\n",
    "X_test  = tfidf_model.transform(X_test.apply(\" \".join))\n",
    "    \n",
    "# List to track and save the models running\n",
    "# Initialize with the data used to feed the models\n",
    "list_tracking = []\n",
    "\n",
    "for f_s_m in select_k_features:\n",
    "    \n",
    "    print(f\"Selecting features: {f_s_m}\")\n",
    "    chi2_model = SelectKBest(chi2, k = f_s_m)\n",
    "    X_vect = chi2_model.fit_transform(X_vect, Xy_data[\"class\"])\n",
    "\n",
    "    X_train = chi2_model.transform(X_train)\n",
    "    X_test  = chi2_model.transform(X_test)\n",
    "    \n",
    "    for key_bagg, bagg_class in bagging_definition.items():\n",
    "        \n",
    "        print(f\"Defining model: {key_bagg}\")\n",
    "        \n",
    "        # Defining if the model is already an ensemble bagging model or not\n",
    "        # None means it's already an ensemble\n",
    "        if bagging_models[key_bagg] is None:\n",
    "            bagg_model_clf = bagg_class(**bagging_parameters[key_bagg])\n",
    "        else:\n",
    "            clf_model = bagging_models[key_bagg](**model_parameters[key_bagg])\n",
    "            bagg_model_clf = bagg_class(clf_model,\n",
    "                                        **bagging_parameters[key_bagg])\n",
    "        \n",
    "        \n",
    "        # SVM doesn't work for 500 and 250\n",
    "        if (key_bagg == \"svm_linear\") and (f_s_m < 501):\n",
    "            print(f\"Skipping model {key_bagg}: {f_s_m}\")\n",
    "            continue\n",
    "    \n",
    "        print(\"Training model\")\n",
    "        time_start_train_model = time()\n",
    "        bagg_model_clf.fit(X_train, y_train)\n",
    "        time_train = time() - time_start_train_model\n",
    "        \n",
    "        print(\"Evaluating model\")\n",
    "        time_start_predic_model = time()\n",
    "        y_hat = bagg_model_clf.predict(X_test)\n",
    "        time_predic = time() - time_start_predic_model\n",
    "        \n",
    "        # Saving the values of this experiment\n",
    "        current_report = CreateFullReport(key_bagg, bagg_model_clf, \n",
    "                                          y_test, y_hat,\n",
    "                                          time_train, time_predic,\n",
    "                                          f_s_m)\n",
    "        \n",
    "        list_tracking.append(current_report)\n",
    "        print(\"Done\")\n",
    "        print(\"\")\n",
    "        gc.collect()\n",
    "\n",
    "with open(\"bagging_trained_models.joblib\", \"wb\") as oFile:\n",
    "    joblib.dump(list_tracking, oFile)"
   ]
  },
  {
   "cell_type": "code",
   "execution_count": null,
   "id": "iLZcRFqLMCYJ",
   "metadata": {
    "id": "iLZcRFqLMCYJ"
   },
   "outputs": [],
   "source": [
    "## grid of xgboost\n",
    "list_tracking = []\n",
    "for f_s_m in select_k_features:\n",
    "    \n",
    "    print(f\"Selecting features: {f_s_m}\")\n",
    "    chi2_model = SelectKBest(chi2, k = f_s_m)\n",
    "    X_vect = chi2_model.fit_transform(X_vect, Xy_data[\"class\"])\n",
    "\n",
    "    X_train = chi2_model.transform(X_train)\n",
    "    X_test  = chi2_model.transform(X_test)\n",
    "\n",
    "    for key_boost, boost_class in boosting_options.items():\n",
    "\n",
    "        print(f\"Defining model: {key_boost}\")\n",
    "        boost_model_clf = boost_class(**boosting_parameters[key_boost])\n",
    "      \n",
    "        print(\"Training model\")\n",
    "        time_start_train_model = time()\n",
    "        boost_model_clf.fit(X_train, y_train)\n",
    "        time_train = time() - time_start_train_model\n",
    "\n",
    "        print(\"Evaluating model\")\n",
    "        time_start_predic_model = time()\n",
    "        y_hat = boost_model_clf.predict(X_test)\n",
    "        time_predic = time() - time_start_predic_model\n",
    "      \n",
    "        current_report = CreateFullReport(key_boost, boost_model_clf,\n",
    "                                          y_test, y_hat,\n",
    "                                          time_train, time_predic,\n",
    "                                          f_s_m)\n",
    "        \n",
    "        list_tracking.append(current_report)\n",
    "        print(\"Done\")\n",
    "        print(\"\")\n",
    "\n",
    "        gc.collect()\n",
    "\n",
    "with open(\"boosting_trained_models.joblib\", \"wb\") as oFile:\n",
    "    joblib.dump(list_tracking, oFile)"
   ]
  },
  {
   "attachments": {},
   "cell_type": "markdown",
   "id": "3782e756-92f0-49e7-8c6e-8c607d8f329a",
   "metadata": {
    "id": "3782e756-92f0-49e7-8c6e-8c607d8f329a"
   },
   "source": [
    "## Model evaluations"
   ]
  },
  {
   "cell_type": "code",
   "execution_count": 9,
   "id": "a5cf4385-f1d5-4723-863f-64ab13ec58bc",
   "metadata": {
    "id": "a5cf4385-f1d5-4723-863f-64ab13ec58bc"
   },
   "outputs": [],
   "source": [
    "# Loading all models\n",
    "\n",
    "with open(\"bagging_trained_models.joblib\", \"rb\") as oBag:\n",
    "    bagging_models = joblib.load(oBag)\n",
    "\n",
    "with open(\"boosting_trained_models.joblib\", \"rb\") as oBoo:\n",
    "    boosting_models = joblib.load(oBoo)"
   ]
  },
  {
   "attachments": {},
   "cell_type": "markdown",
   "id": "Vudu2k2pOykc",
   "metadata": {
    "id": "Vudu2k2pOykc"
   },
   "source": [
    "### Best model (bagging)"
   ]
  },
  {
   "cell_type": "code",
   "execution_count": 146,
   "id": "n1Iot58gvH4t",
   "metadata": {
    "colab": {
     "base_uri": "https://localhost:8080/",
     "height": 394
    },
    "id": "n1Iot58gvH4t",
    "outputId": "619abaef-257d-43b0-a4e4-4a3ec78e5ec0"
   },
   "outputs": [
    {
     "data": {
      "text/html": [
       "<style type=\"text/css\">\n",
       "#T_cce8c_row0_col0, #T_cce8c_row0_col1, #T_cce8c_row0_col2, #T_cce8c_row0_col3 {\n",
       "  background-color: #08306b;\n",
       "  color: #f1f1f1;\n",
       "}\n",
       "#T_cce8c_row1_col0, #T_cce8c_row1_col1 {\n",
       "  background-color: #084082;\n",
       "  color: #f1f1f1;\n",
       "}\n",
       "#T_cce8c_row1_col2, #T_cce8c_row4_col2, #T_cce8c_row6_col0, #T_cce8c_row6_col1 {\n",
       "  background-color: #083674;\n",
       "  color: #f1f1f1;\n",
       "}\n",
       "#T_cce8c_row1_col3 {\n",
       "  background-color: #09529d;\n",
       "  color: #f1f1f1;\n",
       "}\n",
       "#T_cce8c_row2_col0, #T_cce8c_row2_col1, #T_cce8c_row2_col3, #T_cce8c_row9_col2 {\n",
       "  background-color: #f7fbff;\n",
       "  color: #000000;\n",
       "}\n",
       "#T_cce8c_row2_col2 {\n",
       "  background-color: #f2f8fd;\n",
       "  color: #000000;\n",
       "}\n",
       "#T_cce8c_row3_col0, #T_cce8c_row3_col1 {\n",
       "  background-color: #083370;\n",
       "  color: #f1f1f1;\n",
       "}\n",
       "#T_cce8c_row3_col2 {\n",
       "  background-color: #08326e;\n",
       "  color: #f1f1f1;\n",
       "}\n",
       "#T_cce8c_row3_col3 {\n",
       "  background-color: #083471;\n",
       "  color: #f1f1f1;\n",
       "}\n",
       "#T_cce8c_row4_col0, #T_cce8c_row4_col1 {\n",
       "  background-color: #084184;\n",
       "  color: #f1f1f1;\n",
       "}\n",
       "#T_cce8c_row4_col3 {\n",
       "  background-color: #0a549e;\n",
       "  color: #f1f1f1;\n",
       "}\n",
       "#T_cce8c_row5_col0, #T_cce8c_row5_col2, #T_cce8c_row7_col1 {\n",
       "  background-color: #edf4fc;\n",
       "  color: #000000;\n",
       "}\n",
       "#T_cce8c_row5_col1, #T_cce8c_row7_col2 {\n",
       "  background-color: #eef5fc;\n",
       "  color: #000000;\n",
       "}\n",
       "#T_cce8c_row5_col3 {\n",
       "  background-color: #dceaf6;\n",
       "  color: #000000;\n",
       "}\n",
       "#T_cce8c_row6_col2 {\n",
       "  background-color: #083573;\n",
       "  color: #f1f1f1;\n",
       "}\n",
       "#T_cce8c_row6_col3 {\n",
       "  background-color: #083877;\n",
       "  color: #f1f1f1;\n",
       "}\n",
       "#T_cce8c_row7_col0 {\n",
       "  background-color: #eaf3fb;\n",
       "  color: #000000;\n",
       "}\n",
       "#T_cce8c_row7_col3 {\n",
       "  background-color: #cadef0;\n",
       "  color: #000000;\n",
       "}\n",
       "#T_cce8c_row8_col0, #T_cce8c_row8_col1, #T_cce8c_row8_col2 {\n",
       "  background-color: #083b7c;\n",
       "  color: #f1f1f1;\n",
       "}\n",
       "#T_cce8c_row8_col3 {\n",
       "  background-color: #083e81;\n",
       "  color: #f1f1f1;\n",
       "}\n",
       "#T_cce8c_row9_col0 {\n",
       "  background-color: #f2f7fd;\n",
       "  color: #000000;\n",
       "}\n",
       "#T_cce8c_row9_col1 {\n",
       "  background-color: #f5f9fe;\n",
       "  color: #000000;\n",
       "}\n",
       "#T_cce8c_row9_col3 {\n",
       "  background-color: #bfd8ed;\n",
       "  color: #000000;\n",
       "}\n",
       "</style>\n",
       "<table id=\"T_cce8c\" class=\"dataframe\">\n",
       "  <thead>\n",
       "    <tr>\n",
       "      <th class=\"blank\" >&nbsp;</th>\n",
       "      <th class=\"blank level0\" >&nbsp;</th>\n",
       "      <th id=\"T_cce8c_level0_col0\" class=\"col_heading level0 col0\" >f1_score</th>\n",
       "      <th id=\"T_cce8c_level0_col1\" class=\"col_heading level0 col1\" >accuracy</th>\n",
       "      <th id=\"T_cce8c_level0_col2\" class=\"col_heading level0 col2\" >precision</th>\n",
       "      <th id=\"T_cce8c_level0_col3\" class=\"col_heading level0 col3\" >recall</th>\n",
       "    </tr>\n",
       "    <tr>\n",
       "      <th class=\"index_name level0\" >n_features</th>\n",
       "      <th class=\"index_name level1\" >model</th>\n",
       "      <th class=\"blank col0\" >&nbsp;</th>\n",
       "      <th class=\"blank col1\" >&nbsp;</th>\n",
       "      <th class=\"blank col2\" >&nbsp;</th>\n",
       "      <th class=\"blank col3\" >&nbsp;</th>\n",
       "    </tr>\n",
       "  </thead>\n",
       "  <tbody>\n",
       "    <tr>\n",
       "      <th id=\"T_cce8c_level0_row0\" class=\"row_heading level0 row0\" rowspan=\"3\">2000</th>\n",
       "      <th id=\"T_cce8c_level1_row0\" class=\"row_heading level1 row0\" >random_forest</th>\n",
       "      <td id=\"T_cce8c_row0_col0\" class=\"data row0 col0\" >0.957991</td>\n",
       "      <td id=\"T_cce8c_row0_col1\" class=\"data row0 col1\" >0.959031</td>\n",
       "      <td id=\"T_cce8c_row0_col2\" class=\"data row0 col2\" >0.956739</td>\n",
       "      <td id=\"T_cce8c_row0_col3\" class=\"data row0 col3\" >0.959338</td>\n",
       "    </tr>\n",
       "    <tr>\n",
       "      <th id=\"T_cce8c_level1_row1\" class=\"row_heading level1 row1\" >svm_linear</th>\n",
       "      <td id=\"T_cce8c_row1_col0\" class=\"data row1 col0\" >0.951794</td>\n",
       "      <td id=\"T_cce8c_row1_col1\" class=\"data row1 col1\" >0.953245</td>\n",
       "      <td id=\"T_cce8c_row1_col2\" class=\"data row1 col2\" >0.953902</td>\n",
       "      <td id=\"T_cce8c_row1_col3\" class=\"data row1 col3\" >0.949901</td>\n",
       "    </tr>\n",
       "    <tr>\n",
       "      <th id=\"T_cce8c_level1_row2\" class=\"row_heading level1 row2\" >multinomial</th>\n",
       "      <td id=\"T_cce8c_row2_col0\" class=\"data row2 col0\" >0.856173</td>\n",
       "      <td id=\"T_cce8c_row2_col1\" class=\"data row2 col1\" >0.860757</td>\n",
       "      <td id=\"T_cce8c_row2_col2\" class=\"data row2 col2\" >0.839518</td>\n",
       "      <td id=\"T_cce8c_row2_col3\" class=\"data row2 col3\" >0.887167</td>\n",
       "    </tr>\n",
       "    <tr>\n",
       "      <th id=\"T_cce8c_level0_row3\" class=\"row_heading level0 row3\" rowspan=\"3\">1000</th>\n",
       "      <th id=\"T_cce8c_level1_row3\" class=\"row_heading level1 row3\" >random_forest</th>\n",
       "      <td id=\"T_cce8c_row3_col0\" class=\"data row3 col0\" >0.956747</td>\n",
       "      <td id=\"T_cce8c_row3_col1\" class=\"data row3 col1\" >0.957790</td>\n",
       "      <td id=\"T_cce8c_row3_col2\" class=\"data row3 col2\" >0.955474</td>\n",
       "      <td id=\"T_cce8c_row3_col3\" class=\"data row3 col3\" >0.958108</td>\n",
       "    </tr>\n",
       "    <tr>\n",
       "      <th id=\"T_cce8c_level1_row4\" class=\"row_heading level1 row4\" >svm_linear</th>\n",
       "      <td id=\"T_cce8c_row4_col0\" class=\"data row4 col0\" >0.951309</td>\n",
       "      <td id=\"T_cce8c_row4_col1\" class=\"data row4 col1\" >0.952875</td>\n",
       "      <td id=\"T_cce8c_row4_col2\" class=\"data row4 col2\" >0.953555</td>\n",
       "      <td id=\"T_cce8c_row4_col3\" class=\"data row4 col3\" >0.949318</td>\n",
       "    </tr>\n",
       "    <tr>\n",
       "      <th id=\"T_cce8c_level1_row5\" class=\"row_heading level1 row5\" >multinomial</th>\n",
       "      <td id=\"T_cce8c_row5_col0\" class=\"data row5 col0\" >0.861420</td>\n",
       "      <td id=\"T_cce8c_row5_col1\" class=\"data row5 col1\" >0.865250</td>\n",
       "      <td id=\"T_cce8c_row5_col2\" class=\"data row5 col2\" >0.842990</td>\n",
       "      <td id=\"T_cce8c_row5_col3\" class=\"data row5 col3\" >0.896855</td>\n",
       "    </tr>\n",
       "    <tr>\n",
       "      <th id=\"T_cce8c_level0_row6\" class=\"row_heading level0 row6\" rowspan=\"2\">500</th>\n",
       "      <th id=\"T_cce8c_level1_row6\" class=\"row_heading level1 row6\" >random_forest</th>\n",
       "      <td id=\"T_cce8c_row6_col0\" class=\"data row6 col0\" >0.955539</td>\n",
       "      <td id=\"T_cce8c_row6_col1\" class=\"data row6 col1\" >0.956673</td>\n",
       "      <td id=\"T_cce8c_row6_col2\" class=\"data row6 col2\" >0.954228</td>\n",
       "      <td id=\"T_cce8c_row6_col3\" class=\"data row6 col3\" >0.956933</td>\n",
       "    </tr>\n",
       "    <tr>\n",
       "      <th id=\"T_cce8c_level1_row7\" class=\"row_heading level1 row7\" >multinomial</th>\n",
       "      <td id=\"T_cce8c_row7_col0\" class=\"data row7 col0\" >0.862553</td>\n",
       "      <td id=\"T_cce8c_row7_col1\" class=\"data row7 col1\" >0.865913</td>\n",
       "      <td id=\"T_cce8c_row7_col2\" class=\"data row7 col2\" >0.842076</td>\n",
       "      <td id=\"T_cce8c_row7_col3\" class=\"data row7 col3\" >0.903686</td>\n",
       "    </tr>\n",
       "    <tr>\n",
       "      <th id=\"T_cce8c_level0_row8\" class=\"row_heading level0 row8\" rowspan=\"2\">250</th>\n",
       "      <th id=\"T_cce8c_level1_row8\" class=\"row_heading level1 row8\" >random_forest</th>\n",
       "      <td id=\"T_cce8c_row8_col0\" class=\"data row8 col0\" >0.953347</td>\n",
       "      <td id=\"T_cce8c_row8_col1\" class=\"data row8 col1\" >0.954447</td>\n",
       "      <td id=\"T_cce8c_row8_col2\" class=\"data row8 col2\" >0.951548</td>\n",
       "      <td id=\"T_cce8c_row8_col3\" class=\"data row8 col3\" >0.955277</td>\n",
       "    </tr>\n",
       "    <tr>\n",
       "      <th id=\"T_cce8c_level1_row9\" class=\"row_heading level1 row9\" >multinomial</th>\n",
       "      <td id=\"T_cce8c_row9_col0\" class=\"data row9 col0\" >0.859064</td>\n",
       "      <td id=\"T_cce8c_row9_col1\" class=\"data row9 col1\" >0.862187</td>\n",
       "      <td id=\"T_cce8c_row9_col2\" class=\"data row9 col2\" >0.836528</td>\n",
       "      <td id=\"T_cce8c_row9_col3\" class=\"data row9 col3\" >0.906714</td>\n",
       "    </tr>\n",
       "  </tbody>\n",
       "</table>\n"
      ],
      "text/plain": [
       "<pandas.io.formats.style.Styler at 0x7fe60f7995a0>"
      ]
     },
     "execution_count": 146,
     "metadata": {},
     "output_type": "execute_result"
    }
   ],
   "source": [
    "scores_models = []\n",
    "times_models = []\n",
    "\n",
    "for bagg_mod in bagging_models:\n",
    "    n_features = bagg_mod[0][\"chi2\"]\n",
    "    model_name = list(bagg_mod[1].keys())[0]\n",
    "    f1 = bagg_mod[2][\"scores\"][\"f1_score\"]\n",
    "    acc  = bagg_mod[2][\"scores\"][\"accuracy\"]\n",
    "    prec = bagg_mod[2][\"scores\"][\"recall\"]\n",
    "    rec  = bagg_mod[2][\"scores\"][\"precision\"]\n",
    "\n",
    "\n",
    "    scores_models.append((n_features, model_name, f1, acc, prec, rec))\n",
    "\n",
    "    train = bagg_mod[-1][\"time\"][\"training\"]\n",
    "    predi = bagg_mod[-1][\"time\"][\"prediction\"]\n",
    "\n",
    "    times_models.append((train, predi))\n",
    "\n",
    "\n",
    "\n",
    "metrics_models = pd.DataFrame(scores_models, columns=[\"n_features\",\"model\",\n",
    "                                                      \"f1_score\",\"accuracy\",\n",
    "                                                      \"precision\", \"recall\"])\n",
    "\n",
    "metrics_models.set_index([\"n_features\",\"model\"], inplace=True)\n",
    "metrics_models.style.background_gradient(cmap=\"Blues\", axis=0)"
   ]
  },
  {
   "cell_type": "code",
   "execution_count": 147,
   "id": "C13Tra7201oI",
   "metadata": {
    "colab": {
     "base_uri": "https://localhost:8080/",
     "height": 206
    },
    "id": "C13Tra7201oI",
    "outputId": "956a9785-e2df-4b4f-a151-fe4a8947ecd1"
   },
   "outputs": [
    {
     "data": {
      "text/html": [
       "<style type=\"text/css\">\n",
       "#T_11ec2_row0_col0, #T_11ec2_row0_col1, #T_11ec2_row0_col2, #T_11ec2_row0_col3, #T_11ec2_row0_col4, #T_11ec2_row0_col5 {\n",
       "  background-color: #08306b;\n",
       "  color: #f1f1f1;\n",
       "}\n",
       "#T_11ec2_row1_col0 {\n",
       "  background-color: #2575b7;\n",
       "  color: #f1f1f1;\n",
       "}\n",
       "#T_11ec2_row1_col1 {\n",
       "  background-color: #2676b8;\n",
       "  color: #f1f1f1;\n",
       "}\n",
       "#T_11ec2_row1_col2 {\n",
       "  background-color: #206fb4;\n",
       "  color: #f1f1f1;\n",
       "}\n",
       "#T_11ec2_row1_col3 {\n",
       "  background-color: #2f7fbc;\n",
       "  color: #f1f1f1;\n",
       "}\n",
       "#T_11ec2_row1_col4 {\n",
       "  background-color: #3888c1;\n",
       "  color: #f1f1f1;\n",
       "}\n",
       "#T_11ec2_row1_col5 {\n",
       "  background-color: #56a0ce;\n",
       "  color: #f1f1f1;\n",
       "}\n",
       "#T_11ec2_row2_col0 {\n",
       "  background-color: #77b5d9;\n",
       "  color: #000000;\n",
       "}\n",
       "#T_11ec2_row2_col1 {\n",
       "  background-color: #71b1d7;\n",
       "  color: #f1f1f1;\n",
       "}\n",
       "#T_11ec2_row2_col2 {\n",
       "  background-color: #65aad4;\n",
       "  color: #f1f1f1;\n",
       "}\n",
       "#T_11ec2_row2_col3 {\n",
       "  background-color: #91c3de;\n",
       "  color: #000000;\n",
       "}\n",
       "#T_11ec2_row2_col4 {\n",
       "  background-color: #a9cfe5;\n",
       "  color: #000000;\n",
       "}\n",
       "#T_11ec2_row2_col5 {\n",
       "  background-color: #ddeaf7;\n",
       "  color: #000000;\n",
       "}\n",
       "#T_11ec2_row3_col0, #T_11ec2_row3_col1, #T_11ec2_row3_col2, #T_11ec2_row3_col3, #T_11ec2_row3_col4, #T_11ec2_row3_col5 {\n",
       "  background-color: #f7fbff;\n",
       "  color: #000000;\n",
       "}\n",
       "</style>\n",
       "<table id=\"T_11ec2\" class=\"dataframe\">\n",
       "  <thead>\n",
       "    <tr>\n",
       "      <th class=\"blank\" >&nbsp;</th>\n",
       "      <th class=\"blank level0\" >&nbsp;</th>\n",
       "      <th id=\"T_11ec2_level0_col0\" class=\"col_heading level0 col0\" >f1_score</th>\n",
       "      <th id=\"T_11ec2_level0_col1\" class=\"col_heading level0 col1\" >accuracy</th>\n",
       "      <th id=\"T_11ec2_level0_col2\" class=\"col_heading level0 col2\" >precision</th>\n",
       "      <th id=\"T_11ec2_level0_col3\" class=\"col_heading level0 col3\" >recall</th>\n",
       "      <th id=\"T_11ec2_level0_col4\" class=\"col_heading level0 col4\" >t_training</th>\n",
       "      <th id=\"T_11ec2_level0_col5\" class=\"col_heading level0 col5\" >t_prediction</th>\n",
       "    </tr>\n",
       "    <tr>\n",
       "      <th class=\"index_name level0\" >model</th>\n",
       "      <th class=\"index_name level1\" >n_features</th>\n",
       "      <th class=\"blank col0\" >&nbsp;</th>\n",
       "      <th class=\"blank col1\" >&nbsp;</th>\n",
       "      <th class=\"blank col2\" >&nbsp;</th>\n",
       "      <th class=\"blank col3\" >&nbsp;</th>\n",
       "      <th class=\"blank col4\" >&nbsp;</th>\n",
       "      <th class=\"blank col5\" >&nbsp;</th>\n",
       "    </tr>\n",
       "  </thead>\n",
       "  <tbody>\n",
       "    <tr>\n",
       "      <th id=\"T_11ec2_level0_row0\" class=\"row_heading level0 row0\" rowspan=\"4\">random_forest</th>\n",
       "      <th id=\"T_11ec2_level1_row0\" class=\"row_heading level1 row0\" >2000</th>\n",
       "      <td id=\"T_11ec2_row0_col0\" class=\"data row0 col0\" >0.957991</td>\n",
       "      <td id=\"T_11ec2_row0_col1\" class=\"data row0 col1\" >0.959031</td>\n",
       "      <td id=\"T_11ec2_row0_col2\" class=\"data row0 col2\" >0.956739</td>\n",
       "      <td id=\"T_11ec2_row0_col3\" class=\"data row0 col3\" >0.959338</td>\n",
       "      <td id=\"T_11ec2_row0_col4\" class=\"data row0 col4\" >815.436067</td>\n",
       "      <td id=\"T_11ec2_row0_col5\" class=\"data row0 col5\" >3.529123</td>\n",
       "    </tr>\n",
       "    <tr>\n",
       "      <th id=\"T_11ec2_level1_row1\" class=\"row_heading level1 row1\" >1000</th>\n",
       "      <td id=\"T_11ec2_row1_col0\" class=\"data row1 col0\" >0.956747</td>\n",
       "      <td id=\"T_11ec2_row1_col1\" class=\"data row1 col1\" >0.957790</td>\n",
       "      <td id=\"T_11ec2_row1_col2\" class=\"data row1 col2\" >0.955474</td>\n",
       "      <td id=\"T_11ec2_row1_col3\" class=\"data row1 col3\" >0.958108</td>\n",
       "      <td id=\"T_11ec2_row1_col4\" class=\"data row1 col4\" >668.573231</td>\n",
       "      <td id=\"T_11ec2_row1_col5\" class=\"data row1 col5\" >3.078766</td>\n",
       "    </tr>\n",
       "    <tr>\n",
       "      <th id=\"T_11ec2_level1_row2\" class=\"row_heading level1 row2\" >500</th>\n",
       "      <td id=\"T_11ec2_row2_col0\" class=\"data row2 col0\" >0.955539</td>\n",
       "      <td id=\"T_11ec2_row2_col1\" class=\"data row2 col1\" >0.956673</td>\n",
       "      <td id=\"T_11ec2_row2_col2\" class=\"data row2 col2\" >0.954228</td>\n",
       "      <td id=\"T_11ec2_row2_col3\" class=\"data row2 col3\" >0.956933</td>\n",
       "      <td id=\"T_11ec2_row2_col4\" class=\"data row2 col4\" >527.394452</td>\n",
       "      <td id=\"T_11ec2_row2_col5\" class=\"data row2 col5\" >2.629157</td>\n",
       "    </tr>\n",
       "    <tr>\n",
       "      <th id=\"T_11ec2_level1_row3\" class=\"row_heading level1 row3\" >250</th>\n",
       "      <td id=\"T_11ec2_row3_col0\" class=\"data row3 col0\" >0.953347</td>\n",
       "      <td id=\"T_11ec2_row3_col1\" class=\"data row3 col1\" >0.954447</td>\n",
       "      <td id=\"T_11ec2_row3_col2\" class=\"data row3 col2\" >0.951548</td>\n",
       "      <td id=\"T_11ec2_row3_col3\" class=\"data row3 col3\" >0.955277</td>\n",
       "      <td id=\"T_11ec2_row3_col4\" class=\"data row3 col4\" >378.487558</td>\n",
       "      <td id=\"T_11ec2_row3_col5\" class=\"data row3 col5\" >2.495455</td>\n",
       "    </tr>\n",
       "  </tbody>\n",
       "</table>\n"
      ],
      "text/plain": [
       "<pandas.io.formats.style.Styler at 0x7fe60f799150>"
      ]
     },
     "execution_count": 147,
     "metadata": {},
     "output_type": "execute_result"
    }
   ],
   "source": [
    "times_best_models_by_features = pd.DataFrame(times_models,\n",
    "                                             columns = [\"t_training\",\"t_prediction\"]).iloc[[0,3,6,8]]\n",
    "\n",
    "best_models_by_features = metrics_models.loc[metrics_models.index[[0,3,6,8]]]\n",
    "\n",
    "times_best_models_by_features.reset_index(drop=True, inplace=True)\n",
    "best_models_by_features.reset_index(inplace=True)\n",
    "\n",
    "metrics_models_best = best_models_by_features.merge(times_best_models_by_features,\n",
    "                                                    left_index=True, right_index=True)\n",
    "\n",
    "metrics_models_best.set_index([\"model\", \"n_features\"], inplace = True)\n",
    "metrics_models_best.style.background_gradient(cmap=\"Blues\")"
   ]
  },
  {
   "cell_type": "code",
   "execution_count": 148,
   "id": "LVaFVwX58Mb3",
   "metadata": {
    "colab": {
     "base_uri": "https://localhost:8080/"
    },
    "id": "LVaFVwX58Mb3",
    "outputId": "1f784eb8-fc64-4ed8-d764-a0f4d2c802ad"
   },
   "outputs": [
    {
     "name": "stdout",
     "output_type": "stream",
     "text": [
      "\n",
      "Random Forest using 250 features\n",
      "              precision    recall  f1-score   support\n",
      "\n",
      "           0       0.96      0.94      0.95     59621\n",
      "           1       0.95      0.97      0.96     94437\n",
      "           2       0.96      0.95      0.95     57148\n",
      "\n",
      "    accuracy                           0.95    211206\n",
      "   macro avg       0.96      0.95      0.95    211206\n",
      "weighted avg       0.95      0.95      0.95    211206\n",
      "\n"
     ]
    }
   ],
   "source": [
    "best_bagg_model = bagging_models[-2]\n",
    "print(\"\\nRandom Forest using 250 features\")\n",
    "print(best_bagg_model[2][\"scores\"][\"report\"])"
   ]
  },
  {
   "cell_type": "code",
   "execution_count": 167,
   "id": "H8ciiOxD-RQG",
   "metadata": {
    "colab": {
     "base_uri": "https://localhost:8080/",
     "height": 174
    },
    "id": "H8ciiOxD-RQG",
    "outputId": "9f447cca-9281-4eb2-ba28-34757f4ac688"
   },
   "outputs": [
    {
     "data": {
      "text/html": [
       "<style type=\"text/css\">\n",
       "#T_ba93c_row0_col0, #T_ba93c_row1_col1, #T_ba93c_row2_col2 {\n",
       "  background-color: #006837;\n",
       "  color: #f1f1f1;\n",
       "}\n",
       "#T_ba93c_row0_col1, #T_ba93c_row0_col2, #T_ba93c_row2_col0, #T_ba93c_row2_col1 {\n",
       "  background-color: #a50026;\n",
       "  color: #f1f1f1;\n",
       "}\n",
       "#T_ba93c_row1_col0 {\n",
       "  background-color: #a90426;\n",
       "  color: #f1f1f1;\n",
       "}\n",
       "#T_ba93c_row1_col2 {\n",
       "  background-color: #a70226;\n",
       "  color: #f1f1f1;\n",
       "}\n",
       "</style>\n",
       "<table id=\"T_ba93c\" class=\"dataframe\">\n",
       "  <thead>\n",
       "    <tr>\n",
       "      <th class=\"blank level0\" >&nbsp;</th>\n",
       "      <th id=\"T_ba93c_level0_col0\" class=\"col_heading level0 col0\" colspan=\"3\">Confusion matrix: Random Forest using 250 features</th>\n",
       "    </tr>\n",
       "    <tr>\n",
       "      <th class=\"blank level1\" >&nbsp;</th>\n",
       "      <th id=\"T_ba93c_level1_col0\" class=\"col_heading level1 col0\" >Negative</th>\n",
       "      <th id=\"T_ba93c_level1_col1\" class=\"col_heading level1 col1\" >Other</th>\n",
       "      <th id=\"T_ba93c_level1_col2\" class=\"col_heading level1 col2\" >Positive</th>\n",
       "    </tr>\n",
       "  </thead>\n",
       "  <tbody>\n",
       "    <tr>\n",
       "      <th id=\"T_ba93c_level0_row0\" class=\"row_heading level0 row0\" >Negative</th>\n",
       "      <td id=\"T_ba93c_row0_col0\" class=\"data row0 col0\" >56095</td>\n",
       "      <td id=\"T_ba93c_row0_col1\" class=\"data row0 col1\" >2532</td>\n",
       "      <td id=\"T_ba93c_row0_col2\" class=\"data row0 col2\" >994</td>\n",
       "    </tr>\n",
       "    <tr>\n",
       "      <th id=\"T_ba93c_level0_row1\" class=\"row_heading level0 row1\" >Other</th>\n",
       "      <td id=\"T_ba93c_row1_col0\" class=\"data row1 col0\" >1553</td>\n",
       "      <td id=\"T_ba93c_row1_col1\" class=\"data row1 col1\" >91479</td>\n",
       "      <td id=\"T_ba93c_row1_col2\" class=\"data row1 col2\" >1405</td>\n",
       "    </tr>\n",
       "    <tr>\n",
       "      <th id=\"T_ba93c_level0_row2\" class=\"row_heading level0 row2\" >Positive</th>\n",
       "      <td id=\"T_ba93c_row2_col0\" class=\"data row2 col0\" >930</td>\n",
       "      <td id=\"T_ba93c_row2_col1\" class=\"data row2 col1\" >2207</td>\n",
       "      <td id=\"T_ba93c_row2_col2\" class=\"data row2 col2\" >54011</td>\n",
       "    </tr>\n",
       "  </tbody>\n",
       "</table>\n"
      ],
      "text/plain": [
       "<pandas.io.formats.style.Styler at 0x7fe5aa7ee3b0>"
      ]
     },
     "execution_count": 167,
     "metadata": {},
     "output_type": "execute_result"
    }
   ],
   "source": [
    "confusion_matrix_best_bagg = best_bagg_model[2][\"scores\"][\"cm\"]\n",
    "\n",
    "multi_index_cols = pd.MultiIndex.from_product([[\"Confusion matrix: Random Forest using 250 features\"],\n",
    "                                               [\"Negative\",\"Other\",\"Positive\"]])\n",
    "confusion_matrix_best_bagg.columns = multi_index_cols\n",
    "confusion_matrix_best_bagg.index = [\"Negative\",\"Other\",\"Positive\"]\n",
    "\n",
    "confusion_matrix_best_bagg.style.background_gradient(cmap=\"RdYlGn\")"
   ]
  },
  {
   "attachments": {},
   "cell_type": "markdown",
   "id": "L-_5jVQAO70u",
   "metadata": {
    "id": "L-_5jVQAO70u"
   },
   "source": [
    "### Best model (boosting)"
   ]
  },
  {
   "cell_type": "code",
   "execution_count": 161,
   "id": "uk5dCyt_FJGd",
   "metadata": {
    "colab": {
     "base_uri": "https://localhost:8080/",
     "height": 206
    },
    "id": "uk5dCyt_FJGd",
    "outputId": "e8a72716-63c7-49a2-fbb0-ad0ab46cacc0"
   },
   "outputs": [
    {
     "data": {
      "text/html": [
       "<style type=\"text/css\">\n",
       "#T_5b364_row0_col0, #T_5b364_row0_col1, #T_5b364_row0_col2, #T_5b364_row0_col3, #T_5b364_row1_col5, #T_5b364_row3_col4 {\n",
       "  background-color: #f7fbff;\n",
       "  color: #000000;\n",
       "}\n",
       "#T_5b364_row0_col4, #T_5b364_row0_col5, #T_5b364_row3_col0, #T_5b364_row3_col1, #T_5b364_row3_col2, #T_5b364_row3_col3 {\n",
       "  background-color: #08306b;\n",
       "  color: #f1f1f1;\n",
       "}\n",
       "#T_5b364_row1_col0 {\n",
       "  background-color: #63a8d3;\n",
       "  color: #f1f1f1;\n",
       "}\n",
       "#T_5b364_row1_col1 {\n",
       "  background-color: #519ccc;\n",
       "  color: #f1f1f1;\n",
       "}\n",
       "#T_5b364_row1_col2 {\n",
       "  background-color: #a0cbe2;\n",
       "  color: #000000;\n",
       "}\n",
       "#T_5b364_row1_col3 {\n",
       "  background-color: #5fa6d1;\n",
       "  color: #f1f1f1;\n",
       "}\n",
       "#T_5b364_row1_col4 {\n",
       "  background-color: #7ab6d9;\n",
       "  color: #000000;\n",
       "}\n",
       "#T_5b364_row2_col0 {\n",
       "  background-color: #1460a8;\n",
       "  color: #f1f1f1;\n",
       "}\n",
       "#T_5b364_row2_col1 {\n",
       "  background-color: #135fa7;\n",
       "  color: #f1f1f1;\n",
       "}\n",
       "#T_5b364_row2_col2 {\n",
       "  background-color: #2676b8;\n",
       "  color: #f1f1f1;\n",
       "}\n",
       "#T_5b364_row2_col3 {\n",
       "  background-color: #2474b7;\n",
       "  color: #f1f1f1;\n",
       "}\n",
       "#T_5b364_row2_col4 {\n",
       "  background-color: #cee0f2;\n",
       "  color: #000000;\n",
       "}\n",
       "#T_5b364_row2_col5 {\n",
       "  background-color: #2171b5;\n",
       "  color: #f1f1f1;\n",
       "}\n",
       "#T_5b364_row3_col5 {\n",
       "  background-color: #eaf2fb;\n",
       "  color: #000000;\n",
       "}\n",
       "</style>\n",
       "<table id=\"T_5b364\" class=\"dataframe\">\n",
       "  <thead>\n",
       "    <tr>\n",
       "      <th class=\"blank\" >&nbsp;</th>\n",
       "      <th class=\"blank level0\" >&nbsp;</th>\n",
       "      <th id=\"T_5b364_level0_col0\" class=\"col_heading level0 col0\" >f1_score</th>\n",
       "      <th id=\"T_5b364_level0_col1\" class=\"col_heading level0 col1\" >accuracy</th>\n",
       "      <th id=\"T_5b364_level0_col2\" class=\"col_heading level0 col2\" >precision</th>\n",
       "      <th id=\"T_5b364_level0_col3\" class=\"col_heading level0 col3\" >recall</th>\n",
       "      <th id=\"T_5b364_level0_col4\" class=\"col_heading level0 col4\" >t_training</th>\n",
       "      <th id=\"T_5b364_level0_col5\" class=\"col_heading level0 col5\" >t_prediction</th>\n",
       "    </tr>\n",
       "    <tr>\n",
       "      <th class=\"index_name level0\" >n_features</th>\n",
       "      <th class=\"index_name level1\" >model</th>\n",
       "      <th class=\"blank col0\" >&nbsp;</th>\n",
       "      <th class=\"blank col1\" >&nbsp;</th>\n",
       "      <th class=\"blank col2\" >&nbsp;</th>\n",
       "      <th class=\"blank col3\" >&nbsp;</th>\n",
       "      <th class=\"blank col4\" >&nbsp;</th>\n",
       "      <th class=\"blank col5\" >&nbsp;</th>\n",
       "    </tr>\n",
       "  </thead>\n",
       "  <tbody>\n",
       "    <tr>\n",
       "      <th id=\"T_5b364_level0_row0\" class=\"row_heading level0 row0\" >2000</th>\n",
       "      <th id=\"T_5b364_level1_row0\" class=\"row_heading level1 row0\" >xgb</th>\n",
       "      <td id=\"T_5b364_row0_col0\" class=\"data row0 col0\" >0.387249</td>\n",
       "      <td id=\"T_5b364_row0_col1\" class=\"data row0 col1\" >0.414709</td>\n",
       "      <td id=\"T_5b364_row0_col2\" class=\"data row0 col2\" >0.477910</td>\n",
       "      <td id=\"T_5b364_row0_col3\" class=\"data row0 col3\" >0.755109</td>\n",
       "      <td id=\"T_5b364_row0_col4\" class=\"data row0 col4\" >42.397923</td>\n",
       "      <td id=\"T_5b364_row0_col5\" class=\"data row0 col5\" >26.775690</td>\n",
       "    </tr>\n",
       "    <tr>\n",
       "      <th id=\"T_5b364_level0_row1\" class=\"row_heading level0 row1\" >1000</th>\n",
       "      <th id=\"T_5b364_level1_row1\" class=\"row_heading level1 row1\" >xgb</th>\n",
       "      <td id=\"T_5b364_row1_col0\" class=\"data row1 col0\" >0.636258</td>\n",
       "      <td id=\"T_5b364_row1_col1\" class=\"data row1 col1\" >0.674479</td>\n",
       "      <td id=\"T_5b364_row1_col2\" class=\"data row1 col2\" >0.614580</td>\n",
       "      <td id=\"T_5b364_row1_col3\" class=\"data row1 col3\" >0.826195</td>\n",
       "      <td id=\"T_5b364_row1_col4\" class=\"data row1 col4\" >26.752123</td>\n",
       "      <td id=\"T_5b364_row1_col5\" class=\"data row1 col5\" >21.839481</td>\n",
       "    </tr>\n",
       "    <tr>\n",
       "      <th id=\"T_5b364_level0_row2\" class=\"row_heading level0 row2\" >500</th>\n",
       "      <th id=\"T_5b364_level1_row2\" class=\"row_heading level1 row2\" >xgb</th>\n",
       "      <td id=\"T_5b364_row2_col0\" class=\"data row2 col0\" >0.774708</td>\n",
       "      <td id=\"T_5b364_row2_col1\" class=\"data row2 col1\" >0.782411</td>\n",
       "      <td id=\"T_5b364_row2_col2\" class=\"data row2 col2\" >0.747501</td>\n",
       "      <td id=\"T_5b364_row2_col3\" class=\"data row2 col3\" >0.852389</td>\n",
       "      <td id=\"T_5b364_row2_col4\" class=\"data row2 col4\" >19.360382</td>\n",
       "      <td id=\"T_5b364_row2_col5\" class=\"data row2 col5\" >25.523778</td>\n",
       "    </tr>\n",
       "    <tr>\n",
       "      <th id=\"T_5b364_level0_row3\" class=\"row_heading level0 row3\" >250</th>\n",
       "      <th id=\"T_5b364_level1_row3\" class=\"row_heading level1 row3\" >xgb</th>\n",
       "      <td id=\"T_5b364_row3_col0\" class=\"data row3 col0\" >0.862330</td>\n",
       "      <td id=\"T_5b364_row3_col1\" class=\"data row3 col1\" >0.863456</td>\n",
       "      <td id=\"T_5b364_row3_col2\" class=\"data row3 col2\" >0.848022</td>\n",
       "      <td id=\"T_5b364_row3_col3\" class=\"data row3 col3\" >0.887500</td>\n",
       "      <td id=\"T_5b364_row3_col4\" class=\"data row3 col4\" >13.274708</td>\n",
       "      <td id=\"T_5b364_row3_col5\" class=\"data row3 col5\" >22.179826</td>\n",
       "    </tr>\n",
       "  </tbody>\n",
       "</table>\n"
      ],
      "text/plain": [
       "<pandas.io.formats.style.Styler at 0x7fe60f74bca0>"
      ]
     },
     "execution_count": 161,
     "metadata": {},
     "output_type": "execute_result"
    }
   ],
   "source": [
    "scores_models = []\n",
    "times_models = []\n",
    "\n",
    "for boos_mod in boosting_models:\n",
    "    n_features = boos_mod[0][\"chi2\"]\n",
    "    model_name = list(boos_mod[1].keys())[0]\n",
    "    f1 = boos_mod[2][\"scores\"][\"f1_score\"]\n",
    "    acc  = boos_mod[2][\"scores\"][\"accuracy\"]\n",
    "    prec = boos_mod[2][\"scores\"][\"recall\"]\n",
    "    rec  = boos_mod[2][\"scores\"][\"precision\"]\n",
    "\n",
    "    scores_models.append((n_features, model_name, f1, acc, prec, rec))\n",
    "\n",
    "    train = boos_mod[-1][\"time\"][\"training\"]\n",
    "    predi = boos_mod[-1][\"time\"][\"prediction\"]\n",
    "\n",
    "    times_models.append((train, predi))\n",
    "\n",
    "\n",
    "\n",
    "metrics_models = pd.DataFrame(scores_models, columns=[\"n_features\",\"model\",\n",
    "                                                  \"f1_score\",\"accuracy\",\n",
    "                                                  \"precision\", \"recall\"])\n",
    "\n",
    "times_models = pd.DataFrame(times_models, columns = [\"t_training\",\"t_prediction\"])\n",
    "\n",
    "metrics_models = metrics_models.merge(times_models, left_index=True,\n",
    "                                      right_index=True)\n",
    "\n",
    "metrics_models.set_index([\"n_features\",\"model\"], inplace=True)\n",
    "metrics_models.style.background_gradient(cmap=\"Blues\", axis=0)"
   ]
  },
  {
   "cell_type": "code",
   "execution_count": 166,
   "id": "ECGOvEpoTTgI",
   "metadata": {
    "colab": {
     "base_uri": "https://localhost:8080/"
    },
    "id": "ECGOvEpoTTgI",
    "outputId": "849ecbfd-9992-42a1-8fea-ca461420a677"
   },
   "outputs": [
    {
     "name": "stdout",
     "output_type": "stream",
     "text": [
      "XGB using 250 features\n",
      "              precision    recall  f1-score   support\n",
      "\n",
      "           0       0.92      0.76      0.83     59845\n",
      "           1       0.80      0.94      0.87     93886\n",
      "           2       0.94      0.84      0.89     57475\n",
      "\n",
      "    accuracy                           0.86    211206\n",
      "   macro avg       0.89      0.85      0.86    211206\n",
      "weighted avg       0.87      0.86      0.86    211206\n",
      "\n"
     ]
    }
   ],
   "source": [
    "best_boss_model = boosting_models[-1]\n",
    "\n",
    "print(\"\\nXGB using 250 features\")\n",
    "print(best_boss_model[2][\"scores\"][\"report\"])"
   ]
  },
  {
   "cell_type": "code",
   "execution_count": null,
   "id": "SrEEjF_zTqs7",
   "metadata": {
    "id": "SrEEjF_zTqs7"
   },
   "outputs": [],
   "source": [
    "best_boss_model = boosting_models[-1]\n",
    "\n",
    "print(\"\\nXGB using 250 features\")\n",
    "print(best_boss_model[2][\"scores\"][\"report\"])"
   ]
  },
  {
   "cell_type": "code",
   "execution_count": 174,
   "id": "d5nQajU9TXus",
   "metadata": {
    "colab": {
     "base_uri": "https://localhost:8080/",
     "height": 174
    },
    "id": "d5nQajU9TXus",
    "outputId": "4249647b-4ca5-4948-8c79-75c9cc927e09"
   },
   "outputs": [
    {
     "data": {
      "text/html": [
       "<style type=\"text/css\">\n",
       "#T_7c3ce_row0_col0, #T_7c3ce_row1_col1, #T_7c3ce_row2_col2 {\n",
       "  background-color: #006837;\n",
       "  color: #f1f1f1;\n",
       "}\n",
       "#T_7c3ce_row0_col1 {\n",
       "  background-color: #c41e27;\n",
       "  color: #f1f1f1;\n",
       "}\n",
       "#T_7c3ce_row0_col2, #T_7c3ce_row2_col0, #T_7c3ce_row2_col1 {\n",
       "  background-color: #a50026;\n",
       "  color: #f1f1f1;\n",
       "}\n",
       "#T_7c3ce_row1_col0 {\n",
       "  background-color: #be1827;\n",
       "  color: #f1f1f1;\n",
       "}\n",
       "#T_7c3ce_row1_col2 {\n",
       "  background-color: #b10b26;\n",
       "  color: #f1f1f1;\n",
       "}\n",
       "</style>\n",
       "<table id=\"T_7c3ce\" class=\"dataframe\">\n",
       "  <thead>\n",
       "    <tr>\n",
       "      <th class=\"blank level0\" >&nbsp;</th>\n",
       "      <th id=\"T_7c3ce_level0_col0\" class=\"col_heading level0 col0\" colspan=\"3\">Confusion matrix: XGB using 250 features</th>\n",
       "    </tr>\n",
       "    <tr>\n",
       "      <th class=\"blank level1\" >&nbsp;</th>\n",
       "      <th id=\"T_7c3ce_level1_col0\" class=\"col_heading level1 col0\" >Negative</th>\n",
       "      <th id=\"T_7c3ce_level1_col1\" class=\"col_heading level1 col1\" >Other</th>\n",
       "      <th id=\"T_7c3ce_level1_col2\" class=\"col_heading level1 col2\" >Positive</th>\n",
       "    </tr>\n",
       "  </thead>\n",
       "  <tbody>\n",
       "    <tr>\n",
       "      <th id=\"T_7c3ce_level0_row0\" class=\"row_heading level0 row0\" >Negative</th>\n",
       "      <td id=\"T_7c3ce_row0_col0\" class=\"data row0 col0\" >45319</td>\n",
       "      <td id=\"T_7c3ce_row0_col1\" class=\"data row0 col1\" >13552</td>\n",
       "      <td id=\"T_7c3ce_row0_col2\" class=\"data row0 col2\" >974</td>\n",
       "    </tr>\n",
       "    <tr>\n",
       "      <th id=\"T_7c3ce_level0_row1\" class=\"row_heading level0 row1\" >Other</th>\n",
       "      <td id=\"T_7c3ce_row1_col0\" class=\"data row1 col0\" >3072</td>\n",
       "      <td id=\"T_7c3ce_row1_col1\" class=\"data row1 col1\" >88577</td>\n",
       "      <td id=\"T_7c3ce_row1_col2\" class=\"data row1 col2\" >2237</td>\n",
       "    </tr>\n",
       "    <tr>\n",
       "      <th id=\"T_7c3ce_level0_row2\" class=\"row_heading level0 row2\" >Positive</th>\n",
       "      <td id=\"T_7c3ce_row2_col0\" class=\"data row2 col0\" >754</td>\n",
       "      <td id=\"T_7c3ce_row2_col1\" class=\"data row2 col1\" >8250</td>\n",
       "      <td id=\"T_7c3ce_row2_col2\" class=\"data row2 col2\" >48471</td>\n",
       "    </tr>\n",
       "  </tbody>\n",
       "</table>\n"
      ],
      "text/plain": [
       "<pandas.io.formats.style.Styler at 0x7fe608f692a0>"
      ]
     },
     "execution_count": 174,
     "metadata": {},
     "output_type": "execute_result"
    }
   ],
   "source": [
    "confusion_matrix_best_boss = best_boss_model[2][\"scores\"][\"cm\"]\n",
    "\n",
    "multi_index_cols = pd.MultiIndex.from_product([[\"Confusion matrix: XGB using 250 features\"],\n",
    "                                               [\"Negative\",\"Other\",\"Positive\"]])\n",
    "\n",
    "confusion_matrix_best_boss.index = [\"Negative\",\"Other\",\"Positive\"]\n",
    "confusion_matrix_best_boss.columns = multi_index_cols\n",
    "\n",
    "confusion_matrix_best_boss.style.background_gradient(cmap=\"RdYlGn\")\n"
   ]
  },
  {
   "attachments": {},
   "cell_type": "markdown",
   "id": "mPgZUM5bPyAb",
   "metadata": {
    "id": "mPgZUM5bPyAb"
   },
   "source": [
    "## Creating Pipeline and saving"
   ]
  },
  {
   "cell_type": "code",
   "execution_count": 132,
   "id": "eU-reRvtFMTL",
   "metadata": {
    "id": "eU-reRvtFMTL"
   },
   "outputs": [],
   "source": [
    "input_data = Xy_data[\"comment\"].apply(\" \".join)\n",
    "\n",
    "# Vectorization section\n",
    "tfidf_model_fitted = TfidfVectorizer(min_df = 10).fit(input_data)\n",
    "X_vect = tfidf_model_fitted.transform(input_data)\n",
    "\n",
    "# Feature selection section\n",
    "chi2_model_fitted = SelectKBest(chi2, k = 250).fit(X_vect, Xy_data[\"class\"])\n",
    "\n",
    "# Best Model selection section\n",
    "best_model = best_bagg_model[1][\"random_forest\"]\n",
    "\n",
    "# Saving all the steps in the pipeline to predict\n",
    "\n",
    "with open(\"models/01_tfidf_vectorizer_fitted.joblib\", \"wb\") as vFile:\n",
    "    joblib.dump(best_model, vFile)\n",
    "\n",
    "with open(\"models/02_chi2_250_feature_selector_fitted.joblib\", \"wb\") as fsFile:\n",
    "    joblib.dump(chi2_model_fitted, fsFile)\n",
    "\n",
    "with open(\"models/03_random_forest_model_fitted.joblib\") as bmFile:\n",
    "    joblib.dump(best_model, bmFile)"
   ]
  },
  {
   "cell_type": "code",
   "execution_count": null,
   "id": "iIog_9k_Zrml",
   "metadata": {
    "id": "iIog_9k_Zrml"
   },
   "outputs": [],
   "source": []
  }
 ],
 "metadata": {
  "accelerator": "GPU",
  "colab": {
   "gpuType": "T4",
   "provenance": [],
   "toc_visible": true
  },
  "kernelspec": {
   "display_name": "Python 3 (ipykernel)",
   "language": "python",
   "name": "python3"
  },
  "language_info": {
   "codemirror_mode": {
    "name": "ipython",
    "version": 3
   },
   "file_extension": ".py",
   "mimetype": "text/x-python",
   "name": "python",
   "nbconvert_exporter": "python",
   "pygments_lexer": "ipython3",
   "version": "3.10.10"
  }
 },
 "nbformat": 4,
 "nbformat_minor": 5
}
