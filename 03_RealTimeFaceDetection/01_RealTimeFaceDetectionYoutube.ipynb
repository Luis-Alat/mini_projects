{
 "cells": [
  {
   "cell_type": "code",
   "execution_count": 1,
   "id": "GYlyyp1HyIFE",
   "metadata": {
    "colab": {
     "base_uri": "https://localhost:8080/"
    },
    "id": "GYlyyp1HyIFE",
    "outputId": "840a7691-6d0b-4ef2-96ad-527f3eacb945"
   },
   "outputs": [],
   "source": [
    "#!pip install yt_dlp\n",
    "#!pip install opencv-python"
   ]
  },
  {
   "cell_type": "code",
   "execution_count": 2,
   "id": "8YGAvAT1yax-",
   "metadata": {
    "id": "8YGAvAT1yax-"
   },
   "outputs": [],
   "source": [
    "import yt_dlp\n",
    "import cv2\n",
    "import re"
   ]
  },
  {
   "cell_type": "code",
   "execution_count": 3,
   "id": "d8833f52-99cf-4979-9782-9bcae3962604",
   "metadata": {
    "id": "d8833f52-99cf-4979-9782-9bcae3962604"
   },
   "outputs": [],
   "source": [
    "def CheckResolution(formats:\"yt_dlp.YoutubeDL.extract_info.get('formats')\", resolution:str = \"best\") -> list[dict]:\n",
    "    \n",
    "    '''\n",
    "\n",
    "    Check if the resolution supplied is avilable, otherwise return False\n",
    "\n",
    "    Parameters\n",
    "    ----------\n",
    "\n",
    "      formats:list[dict]\n",
    "        list of diccionaries obtained from yt_dlp.YoutubeDL.extract_info.get('formats')\n",
    "\n",
    "      resolution:str, default \"best\"\n",
    "        string indicating to check the resolution, e.g \"144p\", \"360p\", \"1080p60\", etc \n",
    "\n",
    "\n",
    "    Returns\n",
    "      str|bool: str indicating resolution if available, otherwise returns bool False\n",
    "\n",
    "    '''\n",
    "\n",
    "    if resolution != \"best\":\n",
    "\n",
    "        matches = [resolution for f in formats if f.get(\"format_note\", None) == resolution]\n",
    "        matches_len = len(matches)\n",
    "\n",
    "        return resolution if matches_len else False\n",
    "\n",
    "    max_resolution_available = {\"res\": \"0p\"}\n",
    "\n",
    "    for f in formats:\n",
    "    \n",
    "        current_res = f.get(\"format_note\", \"0p\")\n",
    "        \n",
    "        # Only retrieving if metadata is describing some numeric value\n",
    "        if bool(re.match(\"^\\d+\", current_res)):\n",
    "            current_pixels = re.split(\"[A-Za-z]\", current_res)[0]\n",
    "            current_pixels = int(current_pixels)\n",
    "            \n",
    "            before_pixels = re.split(\"[A-Za-z]\", max_resolution_available[\"res\"])[0]\n",
    "            before_pixels = int(before_pixels)\n",
    "            \n",
    "            max_res = current_res if current_pixels > before_pixels else max_resolution_available[\"res\"] \n",
    "            max_resolution_available[\"res\"] = max_res \n",
    "            \n",
    "    return max_resolution_available[\"res\"]\n",
    "\n",
    "def GetMetaVideo(formats:\"yt_dlp.YoutubeDL.extract_info.get('formats')\", resolution, which:int=-1):\n",
    "\n",
    "    url_options = [f for f in formats if f.get(\"format_note\") == resolution]\n",
    "\n",
    "    return url_options[which]\n",
    "\n",
    "def RemoveEmojis(string:str):\n",
    "    \n",
    "    return re.sub(r'[^\\x00-\\x7F]+',' ', string)"
   ]
  },
  {
   "cell_type": "code",
   "execution_count": 10,
   "id": "53c99f58-d4b6-4129-9423-b653b0eb810c",
   "metadata": {},
   "outputs": [],
   "source": [
    "# Load model cascade\n",
    "face_cascade_frontal = cv2.CascadeClassifier('data/models/haarcascade_frontalface_default.xml')"
   ]
  },
  {
   "cell_type": "code",
   "execution_count": 5,
   "id": "40b81e61-8dc6-4ee8-b2fe-a228bbf96373",
   "metadata": {
    "colab": {
     "base_uri": "https://localhost:8080/"
    },
    "id": "40b81e61-8dc6-4ee8-b2fe-a228bbf96373",
    "outputId": "2f843813-bff5-451b-fc68-0c7e1ef69bb8"
   },
   "outputs": [
    {
     "name": "stdout",
     "output_type": "stream",
     "text": [
      "[youtube] Extracting URL: https://www.youtube.com/watch?v=kiC1rPh1C3U\n",
      "[youtube] kiC1rPh1C3U: Downloading webpage\n",
      "[youtube] kiC1rPh1C3U: Downloading android player API JSON\n"
     ]
    }
   ],
   "source": [
    "# Initializing youtube video object\n",
    "video_url = \"https://www.youtube.com/watch?v=5NjJLFI_oYs\"\n",
    "ydl = yt_dlp.YoutubeDL({})\n",
    "\n",
    "# Loading youtube video data\n",
    "info_dict = ydl.extract_info(video_url, download=False)\n",
    "video_title = info_dict[\"title\"]\n",
    "video_title = RemoveEmojis(video_title)\n",
    "\n",
    "# Get video formats available\n",
    "formats = info_dict.get('formats', None)"
   ]
  },
  {
   "cell_type": "code",
   "execution_count": 6,
   "id": "d6743191-444a-461e-9604-2cd71c798705",
   "metadata": {
    "id": "d6743191-444a-461e-9604-2cd71c798705"
   },
   "outputs": [],
   "source": [
    "is_present_res = CheckResolution(formats, \"360p\")\n",
    "\n",
    "if not is_present_res:\n",
    "    raise Exception(\"Resolution not available\")\n",
    "\n",
    "last_format = GetMetaVideo(formats, is_present_res, -1)"
   ]
  },
  {
   "cell_type": "code",
   "execution_count": 7,
   "id": "2e657a79-fe33-4b3f-9326-1c443cd1d517",
   "metadata": {},
   "outputs": [],
   "source": [
    "capture = cv2.VideoCapture(last_format.get(\"url\"))"
   ]
  },
  {
   "cell_type": "code",
   "execution_count": 8,
   "id": "c0a346d8-a3ec-49fc-9148-80a0a3ce56c0",
   "metadata": {
    "colab": {
     "base_uri": "https://localhost:8080/"
    },
    "id": "c0a346d8-a3ec-49fc-9148-80a0a3ce56c0",
    "outputId": "875ec622-dab5-4732-83f4-bed53bf4e5f4"
   },
   "outputs": [
    {
     "name": "stderr",
     "output_type": "stream",
     "text": [
      "Warning: Ignoring XDG_SESSION_TYPE=wayland on Gnome. Use QT_QPA_PLATFORM=wayland to run on Wayland anyway.\n"
     ]
    }
   ],
   "source": [
    "capture = cv2.VideoCapture(last_format.get(\"url\"))\n",
    "\n",
    "if not capture.isOpened():\n",
    "    raise Exception(\"Can't be possible to open the video\")\n",
    "    \n",
    "while True:\n",
    "    ret, frame = capture.read()\n",
    "    \n",
    "    if not ret:\n",
    "        print(\"Video has ended\")\n",
    "        break\n",
    "        \n",
    "    # Gray scale converting\n",
    "    gray_scale_frame = cv2.cvtColor(frame, cv2.COLOR_BGR2GRAY)\n",
    "        \n",
    "    # Face detection front and profile\n",
    "    location_face_frontal = face_cascade_frontal.detectMultiScale(gray_scale_frame, 1.2, 5)        \n",
    "        \n",
    "    for (x, y, w, h) in location_face_frontal:\n",
    "        cv2.rectangle(frame, (x, y), (x + w, y + h), (255, 0, 0), 2)\n",
    "    \n",
    "    cv2.imshow(video_title, frame)\n",
    "\n",
    "    if cv2.waitKey(30) & 0xFF == ord('q'):\n",
    "        break\n",
    "    \n",
    "capture.release()\n",
    "cv2.destroyAllWindows()"
   ]
  }
 ],
 "metadata": {
  "colab": {
   "provenance": []
  },
  "kernelspec": {
   "display_name": "Python 3 (ipykernel)",
   "language": "python",
   "name": "python3"
  },
  "language_info": {
   "codemirror_mode": {
    "name": "ipython",
    "version": 3
   },
   "file_extension": ".py",
   "mimetype": "text/x-python",
   "name": "python",
   "nbconvert_exporter": "python",
   "pygments_lexer": "ipython3",
   "version": "3.10.10"
  }
 },
 "nbformat": 4,
 "nbformat_minor": 5
}
