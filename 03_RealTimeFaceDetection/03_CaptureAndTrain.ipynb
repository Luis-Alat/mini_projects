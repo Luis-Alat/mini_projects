{
 "cells": [
  {
   "cell_type": "code",
   "execution_count": 11,
   "id": "65c4bb66-ef9a-4e5c-89d7-361f0e60a265",
   "metadata": {},
   "outputs": [],
   "source": [
    "import cv2\n",
    "import os\n",
    "from time import sleep\n",
    "import shutil\n",
    "import numpy as np\n",
    "from PIL import Image"
   ]
  },
  {
   "cell_type": "code",
   "execution_count": 2,
   "id": "b123ff18-252b-4c07-a584-3293bf4b73b4",
   "metadata": {},
   "outputs": [
    {
     "name": "stdin",
     "output_type": "stream",
     "text": [
      "id to save user:  luis_123\n"
     ]
    }
   ],
   "source": [
    "# Loading model\n",
    "face_cascade_frontal = cv2.CascadeClassifier('data/models/haarcascade_frontalface_default.xml')\n",
    "\n",
    "# Id to save info of the person\n",
    "person_id = input('id to save user: ')\n",
    "\n",
    "path = f'data/users/{person_id}'\n",
    "\n",
    "if os.path.exists(path):\n",
    "    shutil.rmtree(path)\n",
    "\n",
    "os.makedirs(path)"
   ]
  },
  {
   "cell_type": "code",
   "execution_count": 3,
   "id": "47fcb0ba-8201-4177-bab1-abb3817c013e",
   "metadata": {},
   "outputs": [
    {
     "name": "stderr",
     "output_type": "stream",
     "text": [
      "Warning: Ignoring XDG_SESSION_TYPE=wayland on Gnome. Use QT_QPA_PLATFORM=wayland to run on Wayland anyway.\n"
     ]
    }
   ],
   "source": [
    "count_frame = 0\n",
    "capture = cv2.VideoCapture(0)\n",
    "\n",
    "while(count_frame < 30):\n",
    "\n",
    "    ret, frame = capture.read()\n",
    "\n",
    "    gray_scale_frame = cv2.cvtColor(frame, cv2.COLOR_BGR2GRAY)\n",
    "    location_face_frontal = face_cascade_frontal.detectMultiScale(gray_scale_frame, 1.2, 5)\n",
    "\n",
    "    for (x,y,w,h) in location_face_frontal:\n",
    "\n",
    "        cv2.rectangle(frame, (x,y), (x+w,y+h), (255,0,0), 2)     \n",
    "\n",
    "        # Save current positive frame into data/users\n",
    "        file_name = str(person_id) + \"_\" + str(count_frame) + \".jpg\"\n",
    "        full_path = os.path.join(path, file_name)\n",
    "        \n",
    "        cv2.imwrite(full_path, gray_scale_frame[y:y+h,x:x+w])\n",
    "\n",
    "        cv2.imshow('Frame Capturing', frame)\n",
    "        \n",
    "        count_frame += 1\n",
    "        \n",
    "        sleep(0.25)\n",
    "\n",
    "    if cv2.waitKey(30) & 0xFF == ord('q'):\n",
    "        break\n",
    "\n",
    "capture.release()\n",
    "cv2.destroyAllWindows()"
   ]
  },
  {
   "cell_type": "code",
   "execution_count": 4,
   "id": "0e7fd065-42f3-4493-a557-b40595acd736",
   "metadata": {},
   "outputs": [
    {
     "name": "stdout",
     "output_type": "stream",
     "text": [
      "Loading images to train - user: ['luis_123', 'clarisa_101']\n",
      "Training...\n",
      "Saving results into\n"
     ]
    }
   ],
   "source": [
    "model_recognizer = cv2.face.LBPHFaceRecognizer_create()\n",
    "\n",
    "# function to get the images and label data\n",
    "def LoadImageData(path):\n",
    "\n",
    "    '''\n",
    "    This functiion loads images into a list of numpy arrays and return the id retrieved\n",
    "    from the image file name\n",
    "    \n",
    "    Parameters\n",
    "    ----------\n",
    "    \n",
    "    path:str\n",
    "        Path to find images\n",
    "    \n",
    "    Returns\n",
    "    -------\n",
    "    \n",
    "    (list, np.array):tuple containing a list with numpy arrays from the images loaded and\n",
    "    numpy array of the id respectively\n",
    "    \n",
    "    '''\n",
    "    \n",
    "    train_images_path = [os.path.join(path, image) for image in os.listdir(path)]\n",
    "  \n",
    "    train_images = []\n",
    "    ids = []\n",
    "\n",
    "    for image in train_images_path:\n",
    "\n",
    "        image_matrix = Image.open(image)\n",
    "        image_matrix = np.array(image_matrix)\n",
    "        \n",
    "        unique_id = os.path.split(image)[-1].split(\"_\")[1]\n",
    "\n",
    "        train_images.append(image_matrix)\n",
    "        ids.append(int(unique_id))\n",
    "\n",
    "    return train_images, np.array(ids)\n",
    "\n",
    "images_data = os.listdir(\"data/users/\")\n",
    "print(f\"Loading images to train - user: {images_data}\")\n",
    "train_data = []\n",
    "ids = []\n",
    "\n",
    "for folder in images_data:\n",
    "    path = os.path.join(\"data/users\", folder)\n",
    "    t, i = LoadImageData(path)\n",
    "    train_data += t\n",
    "    ids += [i]\n",
    "\n",
    "print(\"Training...\")\n",
    "model_recognizer.train(train_data, np.array(ids).reshape(-1,))\n",
    "\n",
    "path_weights_results = \"data/training/weights.yml\"\n",
    "print(\"Saving results into\")\n",
    "model_recognizer.write(path_weights_results)"
   ]
  },
  {
   "cell_type": "code",
   "execution_count": 21,
   "id": "bbfe7f3a-4c8c-4ec6-91f4-eaeb1d96206e",
   "metadata": {},
   "outputs": [],
   "source": [
    "font = cv2.FONT_HERSHEY_SIMPLEX\n",
    "\n",
    "#Load users mapping\n",
    "user_maps = {}\n",
    "for user in images_data:\n",
    "    name, number = user.split(\"_\")\n",
    "    user_maps[int(number)] = name.capitalize()\n",
    "\n",
    "\n",
    "# Initialize and start realtime video capture\n",
    "cam = cv2.VideoCapture(0)\n",
    "\n",
    "# Saving output of the predictions and confidence\n",
    "open(\"data/training/ouput_predicted.txt\", \"w\").close()\n",
    "oFile = open(\"data/training/ouput_predicted.txt\", \"a\")\n",
    "\n",
    "while True:\n",
    "\n",
    "    ret, frame =cam.read()\n",
    "\n",
    "    gray_scale_frame = cv2.cvtColor(frame, cv2.COLOR_BGR2GRAY)\n",
    "\n",
    "    location_face_frontal = face_cascade_frontal.detectMultiScale(gray_scale_frame,\n",
    "                                                  scaleFactor=1.2, minNeighbors=5)\n",
    "    \n",
    "    for(x,y,w,h) in location_face_frontal:\n",
    "\n",
    "        cv2.rectangle(frame, (x,y), (x+w,y+h), (0,255,0), 2)\n",
    "\n",
    "        user_id, confidence = model_recognizer.predict(gray_scale_frame[y:y+h, x:x+w])\n",
    "        \n",
    "        oFile.write(str(user_id) + \",\" + str(confidence) + \"\\n\")\n",
    "\n",
    "        # Check if confidence is less than treshold, if confidence = 0, perfect match\n",
    "        if (confidence < 70):\n",
    "            user = user_maps[user_id]\n",
    "            confidence = f\" {int(100 - confidence)}\"\n",
    "        else:\n",
    "            user = \"Unknown\"\n",
    "            confidence = f\" {int(100 - confidence)}\"\n",
    "        \n",
    "        cv2.putText(frame, str(user), (x+5, y-5), font, 1, (255,255,255), 2)\n",
    "        cv2.putText(frame, str(confidence), (x+5, y+h-5), font, 1, (255,255,0), 1)  \n",
    "    \n",
    "    cv2.imshow('Face detection camera', frame) \n",
    "\n",
    "    if cv2.waitKey(30) & 0xFF == ord('q'):\n",
    "        break\n",
    "\n",
    "oFile.close()\n",
    "cam.release()\n",
    "cv2.destroyAllWindows()"
   ]
  },
  {
   "cell_type": "code",
   "execution_count": 46,
   "id": "8eceaa9b-d692-4d14-b0e0-085831619b18",
   "metadata": {},
   "outputs": [
    {
     "data": {
      "text/plain": [
       "'data/users'"
      ]
     },
     "execution_count": 46,
     "metadata": {},
     "output_type": "execute_result"
    }
   ],
   "source": [
    "settings[\"data_base\"][\"users\"]"
   ]
  },
  {
   "cell_type": "code",
   "execution_count": 51,
   "id": "ce88baa9-5c86-4e14-9b6e-e88b5777485f",
   "metadata": {},
   "outputs": [
    {
     "data": {
      "text/plain": [
       "(960, 640)"
      ]
     },
     "execution_count": 51,
     "metadata": {},
     "output_type": "execute_result"
    }
   ],
   "source": [
    "cv2.cvtColor(np.concatenate([frame, frame]), cv2.COLOR_BGR2GRAY).shape"
   ]
  },
  {
   "cell_type": "code",
   "execution_count": 50,
   "id": "d1c52697-9573-4809-a9e1-8bd8f0dfa413",
   "metadata": {},
   "outputs": [
    {
     "data": {
      "text/plain": [
       "(960, 640, 3)"
      ]
     },
     "execution_count": 50,
     "metadata": {},
     "output_type": "execute_result"
    }
   ],
   "source": [
    "np.concatenate([frame, frame]).shape"
   ]
  },
  {
   "cell_type": "code",
   "execution_count": 53,
   "id": "4515fdef-5e5e-441b-aef3-452615e2987f",
   "metadata": {},
   "outputs": [
    {
     "ename": "ValueError",
     "evalue": "not enough values to unpack (expected 4, got 0)",
     "output_type": "error",
     "traceback": [
      "\u001b[0;31m---------------------------------------------------------------------------\u001b[0m",
      "\u001b[0;31mValueError\u001b[0m                                Traceback (most recent call last)",
      "Cell \u001b[0;32mIn[53], line 1\u001b[0m\n\u001b[0;32m----> 1\u001b[0m x,y,z,w \u001b[38;5;241m=\u001b[39m []\n",
      "\u001b[0;31mValueError\u001b[0m: not enough values to unpack (expected 4, got 0)"
     ]
    }
   ],
   "source": [
    "x,y,z,w = []"
   ]
  },
  {
   "cell_type": "code",
   "execution_count": 54,
   "id": "020ec1d0-0ca1-42c6-bdc4-905e402cffb1",
   "metadata": {},
   "outputs": [],
   "source": [
    "import warnings"
   ]
  },
  {
   "cell_type": "code",
   "execution_count": 57,
   "id": "2a6a7f21-0d2f-4b33-b6a4-fb7a65f0eadc",
   "metadata": {},
   "outputs": [
    {
     "name": "stderr",
     "output_type": "stream",
     "text": [
      "/tmp/ipykernel_9022/469237206.py:1: UserWarning: HOla\n",
      "  warnings.warn(\"HOla\")\n"
     ]
    }
   ],
   "source": [
    "warnings.warn(\"HOla\")"
   ]
  },
  {
   "cell_type": "code",
   "execution_count": null,
   "id": "246a677d-9897-4f72-a0ae-aafa02b440e0",
   "metadata": {},
   "outputs": [],
   "source": []
  }
 ],
 "metadata": {
  "kernelspec": {
   "display_name": "Python 3 (ipykernel)",
   "language": "python",
   "name": "python3"
  },
  "language_info": {
   "codemirror_mode": {
    "name": "ipython",
    "version": 3
   },
   "file_extension": ".py",
   "mimetype": "text/x-python",
   "name": "python",
   "nbconvert_exporter": "python",
   "pygments_lexer": "ipython3",
   "version": "3.10.10"
  }
 },
 "nbformat": 4,
 "nbformat_minor": 5
}
