{
  "cells": [
    {
      "attachments": {},
      "cell_type": "markdown",
      "id": "c763b34f-e42e-4ba3-bc96-b4f9522b3f53",
      "metadata": {
        "id": "c763b34f-e42e-4ba3-bc96-b4f9522b3f53"
      },
      "source": [
        "## Loading libraries and data"
      ]
    },
    {
      "cell_type": "code",
      "execution_count": 3,
      "id": "a1951bdb-9aca-496d-a4f4-739c298675de",
      "metadata": {
        "colab": {
          "base_uri": "https://localhost:8080/"
        },
        "id": "a1951bdb-9aca-496d-a4f4-739c298675de",
        "outputId": "51f7e9fb-9e2c-4a35-9d42-a1d98c849f1e"
      },
      "outputs": [
        {
          "name": "stderr",
          "output_type": "stream",
          "text": [
            "/usr/local/lib/python3.10/dist-packages/xgboost/compat.py:36: FutureWarning: pandas.Int64Index is deprecated and will be removed from pandas in a future version. Use pandas.Index with the appropriate dtype instead.\n",
            "  from pandas import MultiIndex, Int64Index\n"
          ]
        }
      ],
      "source": [
        "from time import time\n",
        "import joblib\n",
        "import gc\n",
        "\n",
        "import pandas as pd\n",
        "import numpy as np\n",
        "\n",
        "from sklearn.metrics import classification_report, confusion_matrix, \\\n",
        "                            f1_score, accuracy_score, recall_score, \\\n",
        "                            precision_score\n",
        "from sklearn.model_selection import train_test_split\n",
        "from sklearn.ensemble import RandomForestClassifier, BaggingClassifier\n",
        "from sklearn.svm import SVC\n",
        "from sklearn.naive_bayes import MultinomialNB\n",
        "from sklearn.feature_extraction.text import TfidfVectorizer\n",
        "from sklearn.feature_selection import SelectKBest, chi2\n",
        "\n",
        "import xgboost as xgb"
      ]
    },
    {
      "cell_type": "code",
      "execution_count": 4,
      "id": "f2eda5d2",
      "metadata": {
        "colab": {
          "base_uri": "https://localhost:8080/"
        },
        "id": "f2eda5d2",
        "outputId": "bd0869ee-c168-4c48-81a9-551d0f8caf54"
      },
      "outputs": [
        {
          "name": "stdout",
          "output_type": "stream",
          "text": [
            "python==3.10.10\n",
            "sklearn==1.1.3\n",
            "xgboost==1.5.0\n",
            "joblib==1.2.0\n"
          ]
        }
      ],
      "source": [
        "# Important considerations about the versions used\n",
        "print(\"python==3.10.10\")\n",
        "print(\"sklearn==1.1.3\")\n",
        "print(\"xgboost==1.5.0\")\n",
        "print(\"joblib==1.2.0\")"
      ]
    },
    {
      "cell_type": "code",
      "execution_count": null,
      "id": "ebh53LErRkxu",
      "metadata": {
        "id": "ebh53LErRkxu"
      },
      "outputs": [],
      "source": [
        "def CreateFullReport(model_name:str, model_obj:object,\n",
        "                    y_true:list, y_predict:list,\n",
        "                    time_train:float, time_predict:float, \n",
        "                    n_features:int) -> \"tuple(dict)\":\n",
        "\n",
        "    '''\n",
        "    This functions creates a full report about a machine learning model. It includes:\n",
        "    1. Model name\n",
        "    2. Model object\n",
        "    3. Confusion Matrix\n",
        "    4. Feature selection and number of features selected\n",
        "    5. Time took to train and predict\n",
        "    6. F1-score, precision, recall and accuracy\n",
        "\n",
        "    By default the method used (and reported) to feature selection is chi2\n",
        "\n",
        "    Parameters\n",
        "    ----------\n",
        "    model_name: str\n",
        "        Name of the model. e.g SVM, Random Forest etc\n",
        "    \n",
        "    model_obj: class \n",
        "        Object containig the model. e.g sklearn object fitted such as SVC() or MultinomialNB() classifier\n",
        "    \n",
        "    y_true: list, array-like\n",
        "        List or array-like containing the true labels\n",
        "\n",
        "    y_predict: list, array-like\n",
        "        List or array-like containing the predicted labels by the model\n",
        "    \n",
        "    time_train: float\n",
        "        Time taken by the model for training\n",
        "\n",
        "    time_predict: float:\n",
        "        Time taken by the model when predicting\n",
        "\n",
        "    n_features: int \n",
        "        Number of features selected\n",
        "\n",
        "    '''\n",
        "\n",
        "    report = classification_report(y_true, y_predict)\n",
        "    cm_matrix = pd.DataFrame(confusion_matrix(y_true, y_predict, labels=[0,1,2]))\n",
        "        \n",
        "    f1_result = f1_score(y_true, y_predict, labels=[0,1,2], average=\"macro\")\n",
        "    accuracy_result = accuracy_score(y_true, y_predict)\n",
        "    recall_result = recall_score(y_true, y_predict, labels=[0,1,2], average=\"macro\")\n",
        "    precision_result = precision_score(y_true, y_predict, labels=[0,1,2], average=\"macro\")\n",
        "  \n",
        "    # Saving the values of the experiment\n",
        "    current_report = ({\"chi2\": n_features},\n",
        "                    {model_name: model_obj},\n",
        "                    {\"scores\":\n",
        "                     {\n",
        "                        \"f1_score\": f1_result,\n",
        "                        \"accuracy\": accuracy_result,\n",
        "                        \"recall\": recall_result,\n",
        "                        \"precision\": precision_result,\n",
        "                        \"cm\": cm_matrix,\n",
        "                        \"report\": report\n",
        "                     }\n",
        "                    },\n",
        "                    {\"time\":\n",
        "                     {\n",
        "                        \"training\": time_train,\n",
        "                        \"prediction\":time_predict\n",
        "                     }\n",
        "                    })\n",
        "\n",
        "    return current_report"
      ]
    },
    {
      "cell_type": "code",
      "execution_count": 15,
      "id": "92db1e79-d1e8-44ee-8c85-b0572ff2c264",
      "metadata": {
        "colab": {
          "base_uri": "https://localhost:8080/"
        },
        "id": "92db1e79-d1e8-44ee-8c85-b0572ff2c264",
        "outputId": "1f922d1b-8309-43c9-d96b-1c0e07391c94"
      },
      "outputs": [
        {
          "name": "stdout",
          "output_type": "stream",
          "text": [
            "<class 'pandas.core.frame.DataFrame'>\n",
            "RangeIndex: 704019 entries, 0 to 704018\n",
            "Data columns (total 2 columns):\n",
            " #   Column   Non-Null Count   Dtype \n",
            "---  ------   --------------   ----- \n",
            " 0   comment  704019 non-null  object\n",
            " 1   class    704019 non-null  int8  \n",
            "dtypes: int8(1), object(1)\n",
            "memory usage: 6.0+ MB\n"
          ]
        }
      ],
      "source": [
        "Xy_data = pd.read_feather(\"data/labeled_data_clean.feather\")\n",
        "Xy_data[\"comment\"] = Xy_data[\"comment\"].transform(list)\n",
        "\n",
        "Xy_data.info()"
      ]
    },
    {
      "cell_type": "code",
      "execution_count": null,
      "id": "479914d6-aa2e-49c7-81bd-6c81592397d8",
      "metadata": {
        "id": "479914d6-aa2e-49c7-81bd-6c81592397d8",
        "outputId": "b1da662b-f853-46a8-bd97-2408cab11960"
      },
      "outputs": [
        {
          "data": {
            "text/plain": [
              "1    313661\n",
              "0    199718\n",
              "2    190640\n",
              "Name: class, dtype: int64"
            ]
          },
          "execution_count": 4,
          "metadata": {},
          "output_type": "execute_result"
        }
      ],
      "source": [
        "Xy_data[\"class\"].value_counts()"
      ]
    },
    {
      "cell_type": "code",
      "execution_count": null,
      "id": "031e4474-d53e-4138-ae80-bdb69fe8587a",
      "metadata": {
        "id": "031e4474-d53e-4138-ae80-bdb69fe8587a",
        "outputId": "ac699f06-0d0c-4109-9f44-052c3ef3ab55"
      },
      "outputs": [
        {
          "name": "stdout",
          "output_type": "stream",
          "text": [
            "Shufling data 5 time\n"
          ]
        }
      ],
      "source": [
        "print(\"Shufling data 5 time\")\n",
        "for i in range(5):\n",
        "    Xy_data = Xy_data.sample(Xy_data.shape[0], replace=False)"
      ]
    },
    {
      "attachments": {},
      "cell_type": "markdown",
      "id": "5540570c-2f06-42a3-9f3a-c816e5d3daa7",
      "metadata": {
        "id": "5540570c-2f06-42a3-9f3a-c816e5d3daa7"
      },
      "source": [
        "## Experimental grid definition"
      ]
    },
    {
      "attachments": {},
      "cell_type": "markdown",
      "id": "a057076e-fc34-4f15-b38b-225f836b9299",
      "metadata": {
        "id": "a057076e-fc34-4f15-b38b-225f836b9299"
      },
      "source": [
        "### Models parameters"
      ]
    },
    {
      "attachments": {},
      "cell_type": "markdown",
      "id": "5257eb43",
      "metadata": {
        "id": "5257eb43"
      },
      "source": [
        "In this case, I'll be using _Term Frequency Inverse Document Frequency_ (tf-idf) to obtain a numeric vector representation of the data. I will ignore words with a frequency less than 10, such as misspelled words.\n",
        "\n",
        "For feature selection, I have chosen the _chi2_ method and will experiment with different numbers of features to select (2000, 1000, 5000, 250). This approach allows for the use of fewer computational resources by utilizing a subset of features instead of all of them, resulting in faster model training. Additionally, based on the previous notebook, wordclouds have shown that certain words (features) are significantly present in specific classes. Therefore, I expect that only a subset of words is critical for determining the class, rather than assuming that every word in the sentence is important and should be considered.\n",
        "\n",
        "To further address the computational power issue, I will use \"bagging\" to train multiple classifiers with less data, instead of using a single classifier with all the data. Three base models have been chosen for the sentiment analysis task: _Support Vector Machine_ (SVM), _Multinomial Naive Bayes_ (Multinomial NB), and _tree decisions_ (Random Forest).\n",
        "\n",
        "I will also test a boosting method, Extreme Gradient Boost (XGBoost), which utilizes all of the data.\n",
        "\n",
        "Finally, the models will be trained in parallel using 6 jobs at the same time, fitting 10 models (except for Random Forest, where n_estimators = 100, and XGBoost, where n_estimators = 1000). Other parameters were left as default.\n",
        "\n",
        "The experimental grid definition, consisting of several dictionaries containing the configuration of the grid to test, is shown below. In the section **Feature selection and running grid**, the models are trained."
      ]
    },
    {
      "cell_type": "code",
      "execution_count": null,
      "id": "163aa517-1913-4f43-b960-5cba16224583",
      "metadata": {
        "id": "163aa517-1913-4f43-b960-5cba16224583"
      },
      "outputs": [],
      "source": [
        "# SVM doesn't work for 500 and 250\n",
        "select_k_features = [2000, 1000, 500, 250]\n",
        "\n",
        "model_parameters = {\n",
        "    \n",
        "    \"random_forest\": {},\n",
        "    \n",
        "    \"svm_linear\": {\n",
        "        \"kernel\":\"linear\",\n",
        "        \"class_weight\":\"balanced\"\n",
        "    },\n",
        "    \n",
        "    \"multinomial\": {}\n",
        "   \n",
        "}\n",
        "\n",
        "bagging_models = {\n",
        "    \n",
        "    \"random_forest\": None,\n",
        "    \"svm_linear\": SVC,\n",
        "    \"multinomial\": MultinomialNB\n",
        "    \n",
        "}\n",
        "\n",
        "bagging_parameters = {\n",
        "\n",
        "    \"random_forest\":{\n",
        "        \"n_jobs\": 6,\n",
        "        \"verbose\":1\n",
        "    },\n",
        "    \n",
        "    \"svm_linear\": {\n",
        "        \"max_samples\": 2.5 / 10,\n",
        "        \"n_estimators\": 10,\n",
        "        \"verbose\": 2,\n",
        "        \"n_jobs\": 6\n",
        "    },\n",
        "    \n",
        "    \"multinomial\":{\n",
        "        \"n_jobs\": 6,\n",
        "        \"verbose\": 1,\n",
        "        \"n_estimators\": 10,\n",
        "        \"max_samples\": 2.5 / 10,\n",
        "    }\n",
        "\n",
        "}\n",
        "\n",
        "bagging_definition = {\n",
        "    \n",
        "    \"random_forest\": RandomForestClassifier,\n",
        "    \"svm_linear\": BaggingClassifier,\n",
        "    \"multinomial\": BaggingClassifier\n",
        "\n",
        "}\n",
        "\n",
        "boosting_parameters = {\n",
        "    \n",
        "    \"xgb\":{\n",
        "\n",
        "        \"tree_method\": \"hist\",\n",
        "        \"objective\": \"multi:softprob\",\n",
        "        \"n_estimators\": 1000,\n",
        "        \"verbosity\": 1,\n",
        "        \"n_jobs\": 6\n",
        "\n",
        "    }\n",
        "\n",
        "}\n",
        "\n",
        "boosting_options = {\n",
        "    \n",
        "    \"xgb\":xgb.XGBClassifier\n",
        "\n",
        "}"
      ]
    },
    {
      "attachments": {},
      "cell_type": "markdown",
      "id": "73367a4c-0c74-4f75-9443-9d2458ca678b",
      "metadata": {
        "id": "73367a4c-0c74-4f75-9443-9d2458ca678b"
      },
      "source": [
        "### Train/test split"
      ]
    },
    {
      "cell_type": "code",
      "execution_count": null,
      "id": "ba96b01a-b6a5-40ad-aca6-f4b6132cc4cb",
      "metadata": {
        "id": "ba96b01a-b6a5-40ad-aca6-f4b6132cc4cb",
        "outputId": "2641a8b3-c29e-46cb-f01b-da93eafdd7b2"
      },
      "outputs": [
        {
          "name": "stdout",
          "output_type": "stream",
          "text": [
            "X_train shape: (492813,)\n",
            "y_train shape: (492813,)\n",
            "X_test shape: (211206,)\n",
            "y_test shape: (211206,)\n"
          ]
        }
      ],
      "source": [
        "X_train, X_test, y_train, y_test = train_test_split(Xy_data[\"comment\"],\n",
        "                                                    Xy_data[\"class\"],\n",
        "                                                    train_size = 0.7)\n",
        "\n",
        "print(f\"X_train shape: {X_train.shape}\")\n",
        "print(f\"y_train shape: {y_train.shape}\")\n",
        "print(f\"X_test shape: {X_test.shape}\")\n",
        "print(f\"y_test shape: {y_test.shape}\")"
      ]
    },
    {
      "attachments": {},
      "cell_type": "markdown",
      "id": "91f56bd1-96a7-451a-8d85-031bebca8136",
      "metadata": {
        "id": "91f56bd1-96a7-451a-8d85-031bebca8136"
      },
      "source": [
        "### Feature selection and running grid"
      ]
    },
    {
      "cell_type": "code",
      "execution_count": null,
      "id": "808aa104-ea49-4fde-a8f8-4f6a12fdff0d",
      "metadata": {
        "id": "808aa104-ea49-4fde-a8f8-4f6a12fdff0d"
      },
      "outputs": [],
      "source": [
        "print(\"Vectorizing data\")\n",
        "tfidf_model = TfidfVectorizer(min_df = 10)\n",
        "X_vect = tfidf_model.fit_transform(Xy_data[\"comment\"].apply(\" \".join))\n",
        "\n",
        "X_train = tfidf_model.transform(X_train.apply(\" \".join))\n",
        "X_test  = tfidf_model.transform(X_test.apply(\" \".join))\n",
        "    \n",
        "# List to track and save the models running\n",
        "list_tracking = []\n",
        "\n",
        "for f_s_m in select_k_features:\n",
        "\n",
        "    # Fitting with all data X_vect\n",
        "    print(f\"Selecting features: {f_s_m}\")\n",
        "    chi2_model = SelectKBest(chi2, k = f_s_m)\n",
        "    chi2_model.fit(X_vect, Xy_data[\"class\"])\n",
        "\n",
        "    X_train_chi2 = chi2_model.transform(X_train)\n",
        "    X_test_chi2  = chi2_model.transform(X_test)\n",
        "    \n",
        "    for key_bagg, bagg_class in bagging_definition.items():\n",
        "        \n",
        "        print(f\"Defining model: {key_bagg}\")\n",
        "        \n",
        "        # Defining if the model is already an ensemble bagging model or not\n",
        "        # None means it's already an ensemble\n",
        "        if bagging_models[key_bagg] is None:\n",
        "            bagg_model_clf = bagg_class(**bagging_parameters[key_bagg])\n",
        "        else:\n",
        "            clf_model = bagging_models[key_bagg](**model_parameters[key_bagg])\n",
        "            bagg_model_clf = bagg_class(clf_model,\n",
        "                                        **bagging_parameters[key_bagg])\n",
        "        \n",
        "        \n",
        "        # SVM doesn't work for 500 and 250\n",
        "        if (key_bagg == \"svm_linear\") and (f_s_m < 501):\n",
        "            print(f\"Skipping model {key_bagg}: {f_s_m}\")\n",
        "            continue\n",
        "    \n",
        "        print(\"Training model\")\n",
        "        time_start_train_model = time()\n",
        "        bagg_model_clf.fit(X_train_chi2, y_train)\n",
        "        time_train = time() - time_start_train_model\n",
        "        \n",
        "        print(\"Evaluating model\")\n",
        "        time_start_predic_model = time()\n",
        "        y_hat = bagg_model_clf.predict(X_test_chi2)\n",
        "        time_predic = time() - time_start_predic_model\n",
        "        \n",
        "        # Saving the values of this experiment\n",
        "        current_report = CreateFullReport(key_bagg, bagg_model_clf, \n",
        "                                        y_test, y_hat,\n",
        "                                        time_train, time_predic,\n",
        "                                        f_s_m)\n",
        "        \n",
        "        list_tracking.append(current_report)\n",
        "        print(\"Done\")\n",
        "        print(\"\")\n",
        "        gc.collect()\n",
        "\n",
        "with open(\"bagging_trained_models.joblib\", \"wb\") as oFile:\n",
        "    joblib.dump(list_tracking, oFile)\n",
        "\n",
        "gc.collect()"
      ]
    },
    {
      "cell_type": "code",
      "execution_count": null,
      "id": "iLZcRFqLMCYJ",
      "metadata": {
        "id": "iLZcRFqLMCYJ"
      },
      "outputs": [],
      "source": [
        "## grid of xgboost\n",
        "list_tracking = []\n",
        "for f_s_m in select_k_features:\n",
        "    \n",
        "    print(f\"Selecting features: {f_s_m}\")\n",
        "    chi2_model = SelectKBest(chi2, k = f_s_m)\n",
        "    chi2_model.fit(X_vect, Xy_data[\"class\"])\n",
        "\n",
        "    X_train_chi2 = chi2_model.transform(X_train)\n",
        "    X_test_chi2  = chi2_model.transform(X_test)\n",
        "\n",
        "    for key_boost, boost_class in boosting_options.items():\n",
        "\n",
        "        print(f\"Defining model: {key_boost}\")\n",
        "        boost_model_clf = boost_class(**boosting_parameters[key_boost])\n",
        "      \n",
        "        print(\"Training model\")\n",
        "        time_start_train_model = time()\n",
        "        boost_model_clf.fit(X_train_chi2, y_train)\n",
        "        time_train = time() - time_start_train_model\n",
        "\n",
        "        print(\"Evaluating model\")\n",
        "        time_start_predic_model = time()\n",
        "        y_hat = boost_model_clf.predict(X_test_chi2)\n",
        "        time_predic = time() - time_start_predic_model\n",
        "      \n",
        "        current_report = CreateFullReport(key_boost, boost_model_clf,\n",
        "                                          y_test, y_hat,\n",
        "                                          time_train, time_predic,\n",
        "                                          f_s_m)\n",
        "        \n",
        "        list_tracking.append(current_report)\n",
        "        print(\"Done\")\n",
        "        print(\"\")\n",
        "\n",
        "        gc.collect()\n",
        "\n",
        "with open(\"boosting_trained_models.joblib\", \"wb\") as oFile:\n",
        "    joblib.dump(list_tracking, oFile)\n",
        "\n",
        "gc.collect()"
      ]
    },
    {
      "attachments": {},
      "cell_type": "markdown",
      "id": "3782e756-92f0-49e7-8c6e-8c607d8f329a",
      "metadata": {
        "id": "3782e756-92f0-49e7-8c6e-8c607d8f329a"
      },
      "source": [
        "## Model evaluations"
      ]
    },
    {
      "cell_type": "code",
      "execution_count": 5,
      "id": "a5cf4385-f1d5-4723-863f-64ab13ec58bc",
      "metadata": {
        "id": "a5cf4385-f1d5-4723-863f-64ab13ec58bc"
      },
      "outputs": [],
      "source": [
        "# Loading all models\n",
        "\n",
        "with open(\"bagging_trained_models.joblib\", \"rb\") as oBag:\n",
        "    bagging_models = joblib.load(oBag)\n",
        "\n",
        "with open(\"boosting_trained_models.joblib\", \"rb\") as oBoo:\n",
        "    boosting_models = joblib.load(oBoo)"
      ]
    },
    {
      "attachments": {},
      "cell_type": "markdown",
      "id": "Vudu2k2pOykc",
      "metadata": {
        "id": "Vudu2k2pOykc"
      },
      "source": [
        "### Best model (bagging)"
      ]
    },
    {
      "attachments": {},
      "cell_type": "markdown",
      "id": "eidMqS3FqSfV",
      "metadata": {
        "id": "eidMqS3FqSfV"
      },
      "source": [
        "Metrics such as _f1-score_, _accuracy_, _recall_, and _precision_ are presented in the following table.\n",
        "\n",
        "Among all the models, Multinomial Naive Bayes performed the worst. However, the models trained with different numbers of features exhibited similar performance. For instance, the Random Forest models trained with 2000 features and 250 features demonstrated comparable results.\n",
        "\n",
        "Unfortunately, SVM failed to run for 250 and 500 features, possibly due to convergence issues in finding a suitable solution for the task."
      ]
    },
    {
      "cell_type": "code",
      "execution_count": 6,
      "id": "n1Iot58gvH4t",
      "metadata": {
        "colab": {
          "base_uri": "https://localhost:8080/",
          "height": 394
        },
        "id": "n1Iot58gvH4t",
        "outputId": "204a92e4-344c-4a63-808a-7def98e9cdc6"
      },
      "outputs": [
        {
          "data": {
            "text/html": [
              "<style type=\"text/css\">\n",
              "#T_bd155_row0_col0, #T_bd155_row0_col1, #T_bd155_row0_col2, #T_bd155_row0_col3 {\n",
              "  background-color: #08306b;\n",
              "  color: #f1f1f1;\n",
              "}\n",
              "#T_bd155_row1_col0 {\n",
              "  background-color: #083e81;\n",
              "  color: #f1f1f1;\n",
              "}\n",
              "#T_bd155_row1_col1, #T_bd155_row8_col1 {\n",
              "  background-color: #083d7f;\n",
              "  color: #f1f1f1;\n",
              "}\n",
              "#T_bd155_row1_col2 {\n",
              "  background-color: #083471;\n",
              "  color: #f1f1f1;\n",
              "}\n",
              "#T_bd155_row1_col3 {\n",
              "  background-color: #08519c;\n",
              "  color: #f1f1f1;\n",
              "}\n",
              "#T_bd155_row2_col0, #T_bd155_row2_col1, #T_bd155_row2_col3, #T_bd155_row9_col1, #T_bd155_row9_col2 {\n",
              "  background-color: #f7fbff;\n",
              "  color: #000000;\n",
              "}\n",
              "#T_bd155_row2_col2 {\n",
              "  background-color: #f1f7fd;\n",
              "  color: #000000;\n",
              "}\n",
              "#T_bd155_row3_col0, #T_bd155_row3_col1, #T_bd155_row3_col2 {\n",
              "  background-color: #083370;\n",
              "  color: #f1f1f1;\n",
              "}\n",
              "#T_bd155_row3_col3, #T_bd155_row4_col2 {\n",
              "  background-color: #083573;\n",
              "  color: #f1f1f1;\n",
              "}\n",
              "#T_bd155_row4_col0, #T_bd155_row4_col1 {\n",
              "  background-color: #084082;\n",
              "  color: #f1f1f1;\n",
              "}\n",
              "#T_bd155_row4_col3 {\n",
              "  background-color: #0a539e;\n",
              "  color: #f1f1f1;\n",
              "}\n",
              "#T_bd155_row5_col0, #T_bd155_row7_col2 {\n",
              "  background-color: #f2f8fd;\n",
              "  color: #000000;\n",
              "}\n",
              "#T_bd155_row5_col1, #T_bd155_row7_col1 {\n",
              "  background-color: #f3f8fe;\n",
              "  color: #000000;\n",
              "}\n",
              "#T_bd155_row5_col2 {\n",
              "  background-color: #eff6fc;\n",
              "  color: #000000;\n",
              "}\n",
              "#T_bd155_row5_col3 {\n",
              "  background-color: #e1edf8;\n",
              "  color: #000000;\n",
              "}\n",
              "#T_bd155_row6_col0, #T_bd155_row6_col2 {\n",
              "  background-color: #083674;\n",
              "  color: #f1f1f1;\n",
              "}\n",
              "#T_bd155_row6_col1 {\n",
              "  background-color: #083776;\n",
              "  color: #f1f1f1;\n",
              "}\n",
              "#T_bd155_row6_col3 {\n",
              "  background-color: #083979;\n",
              "  color: #f1f1f1;\n",
              "}\n",
              "#T_bd155_row7_col0 {\n",
              "  background-color: #f2f7fd;\n",
              "  color: #000000;\n",
              "}\n",
              "#T_bd155_row7_col3 {\n",
              "  background-color: #cfe1f2;\n",
              "  color: #000000;\n",
              "}\n",
              "#T_bd155_row8_col0 {\n",
              "  background-color: #083c7d;\n",
              "  color: #f1f1f1;\n",
              "}\n",
              "#T_bd155_row8_col2 {\n",
              "  background-color: #083b7c;\n",
              "  color: #f1f1f1;\n",
              "}\n",
              "#T_bd155_row8_col3 {\n",
              "  background-color: #084184;\n",
              "  color: #f1f1f1;\n",
              "}\n",
              "#T_bd155_row9_col0 {\n",
              "  background-color: #f5f9fe;\n",
              "  color: #000000;\n",
              "}\n",
              "#T_bd155_row9_col3 {\n",
              "  background-color: #c6dbef;\n",
              "  color: #000000;\n",
              "}\n",
              "</style>\n",
              "<table id=\"T_bd155\" class=\"dataframe\">\n",
              "  <thead>\n",
              "    <tr>\n",
              "      <th class=\"blank\" >&nbsp;</th>\n",
              "      <th class=\"blank level0\" >&nbsp;</th>\n",
              "      <th id=\"T_bd155_level0_col0\" class=\"col_heading level0 col0\" >f1_score</th>\n",
              "      <th id=\"T_bd155_level0_col1\" class=\"col_heading level0 col1\" >accuracy</th>\n",
              "      <th id=\"T_bd155_level0_col2\" class=\"col_heading level0 col2\" >precision</th>\n",
              "      <th id=\"T_bd155_level0_col3\" class=\"col_heading level0 col3\" >recall</th>\n",
              "    </tr>\n",
              "    <tr>\n",
              "      <th class=\"index_name level0\" >n_features</th>\n",
              "      <th class=\"index_name level1\" >model</th>\n",
              "      <th class=\"blank col0\" >&nbsp;</th>\n",
              "      <th class=\"blank col1\" >&nbsp;</th>\n",
              "      <th class=\"blank col2\" >&nbsp;</th>\n",
              "      <th class=\"blank col3\" >&nbsp;</th>\n",
              "    </tr>\n",
              "  </thead>\n",
              "  <tbody>\n",
              "    <tr>\n",
              "      <th id=\"T_bd155_level0_row0\" class=\"row_heading level0 row0\" rowspan=\"3\">2000</th>\n",
              "      <th id=\"T_bd155_level1_row0\" class=\"row_heading level1 row0\" >random_forest</th>\n",
              "      <td id=\"T_bd155_row0_col0\" class=\"data row0 col0\" >0.958440</td>\n",
              "      <td id=\"T_bd155_row0_col1\" class=\"data row0 col1\" >0.959499</td>\n",
              "      <td id=\"T_bd155_row0_col2\" class=\"data row0 col2\" >0.957141</td>\n",
              "      <td id=\"T_bd155_row0_col3\" class=\"data row0 col3\" >0.959818</td>\n",
              "    </tr>\n",
              "    <tr>\n",
              "      <th id=\"T_bd155_level1_row1\" class=\"row_heading level1 row1\" >svm_linear</th>\n",
              "      <td id=\"T_bd155_row1_col0\" class=\"data row1 col0\" >0.952834</td>\n",
              "      <td id=\"T_bd155_row1_col1\" class=\"data row1 col1\" >0.954248</td>\n",
              "      <td id=\"T_bd155_row1_col2\" class=\"data row1 col2\" >0.955023</td>\n",
              "      <td id=\"T_bd155_row1_col3\" class=\"data row1 col3\" >0.950941</td>\n",
              "    </tr>\n",
              "    <tr>\n",
              "      <th id=\"T_bd155_level1_row2\" class=\"row_heading level1 row2\" >multinomial</th>\n",
              "      <td id=\"T_bd155_row2_col0\" class=\"data row2 col0\" >0.857568</td>\n",
              "      <td id=\"T_bd155_row2_col1\" class=\"data row2 col1\" >0.861903</td>\n",
              "      <td id=\"T_bd155_row2_col2\" class=\"data row2 col2\" >0.840464</td>\n",
              "      <td id=\"T_bd155_row2_col3\" class=\"data row2 col3\" >0.889755</td>\n",
              "    </tr>\n",
              "    <tr>\n",
              "      <th id=\"T_bd155_level0_row3\" class=\"row_heading level0 row3\" rowspan=\"3\">1000</th>\n",
              "      <th id=\"T_bd155_level1_row3\" class=\"row_heading level1 row3\" >random_forest</th>\n",
              "      <td id=\"T_bd155_row3_col0\" class=\"data row3 col0\" >0.956909</td>\n",
              "      <td id=\"T_bd155_row3_col1\" class=\"data row3 col1\" >0.958022</td>\n",
              "      <td id=\"T_bd155_row3_col2\" class=\"data row3 col2\" >0.955647</td>\n",
              "      <td id=\"T_bd155_row3_col3\" class=\"data row3 col3\" >0.958245</td>\n",
              "    </tr>\n",
              "    <tr>\n",
              "      <th id=\"T_bd155_level1_row4\" class=\"row_heading level1 row4\" >svm_linear</th>\n",
              "      <td id=\"T_bd155_row4_col0\" class=\"data row4 col0\" >0.952165</td>\n",
              "      <td id=\"T_bd155_row4_col1\" class=\"data row4 col1\" >0.953676</td>\n",
              "      <td id=\"T_bd155_row4_col2\" class=\"data row4 col2\" >0.954415</td>\n",
              "      <td id=\"T_bd155_row4_col3\" class=\"data row4 col3\" >0.950265</td>\n",
              "    </tr>\n",
              "    <tr>\n",
              "      <th id=\"T_bd155_level1_row5\" class=\"row_heading level1 row5\" >multinomial</th>\n",
              "      <td id=\"T_bd155_row5_col0\" class=\"data row5 col0\" >0.860266</td>\n",
              "      <td id=\"T_bd155_row5_col1\" class=\"data row5 col1\" >0.864052</td>\n",
              "      <td id=\"T_bd155_row5_col2\" class=\"data row5 col2\" >0.841264</td>\n",
              "      <td id=\"T_bd155_row5_col3\" class=\"data row5 col3\" >0.897512</td>\n",
              "    </tr>\n",
              "    <tr>\n",
              "      <th id=\"T_bd155_level0_row6\" class=\"row_heading level0 row6\" rowspan=\"2\">500</th>\n",
              "      <th id=\"T_bd155_level1_row6\" class=\"row_heading level1 row6\" >random_forest</th>\n",
              "      <td id=\"T_bd155_row6_col0\" class=\"data row6 col0\" >0.955696</td>\n",
              "      <td id=\"T_bd155_row6_col1\" class=\"data row6 col1\" >0.956786</td>\n",
              "      <td id=\"T_bd155_row6_col2\" class=\"data row6 col2\" >0.954281</td>\n",
              "      <td id=\"T_bd155_row6_col3\" class=\"data row6 col3\" >0.957194</td>\n",
              "    </tr>\n",
              "    <tr>\n",
              "      <th id=\"T_bd155_level1_row7\" class=\"row_heading level1 row7\" >multinomial</th>\n",
              "      <td id=\"T_bd155_row7_col0\" class=\"data row7 col0\" >0.860659</td>\n",
              "      <td id=\"T_bd155_row7_col1\" class=\"data row7 col1\" >0.863943</td>\n",
              "      <td id=\"T_bd155_row7_col2\" class=\"data row7 col2\" >0.839517</td>\n",
              "      <td id=\"T_bd155_row7_col3\" class=\"data row7 col3\" >0.904001</td>\n",
              "    </tr>\n",
              "    <tr>\n",
              "      <th id=\"T_bd155_level0_row8\" class=\"row_heading level0 row8\" rowspan=\"2\">250</th>\n",
              "      <th id=\"T_bd155_level1_row8\" class=\"row_heading level1 row8\" >random_forest</th>\n",
              "      <td id=\"T_bd155_row8_col0\" class=\"data row8 col0\" >0.953439</td>\n",
              "      <td id=\"T_bd155_row8_col1\" class=\"data row8 col1\" >0.954523</td>\n",
              "      <td id=\"T_bd155_row8_col2\" class=\"data row8 col2\" >0.951642</td>\n",
              "      <td id=\"T_bd155_row8_col3\" class=\"data row8 col3\" >0.955364</td>\n",
              "    </tr>\n",
              "    <tr>\n",
              "      <th id=\"T_bd155_level1_row9\" class=\"row_heading level1 row9\" >multinomial</th>\n",
              "      <td id=\"T_bd155_row9_col0\" class=\"data row9 col0\" >0.859034</td>\n",
              "      <td id=\"T_bd155_row9_col1\" class=\"data row9 col1\" >0.862064</td>\n",
              "      <td id=\"T_bd155_row9_col2\" class=\"data row9 col2\" >0.836328</td>\n",
              "      <td id=\"T_bd155_row9_col3\" class=\"data row9 col3\" >0.907285</td>\n",
              "    </tr>\n",
              "  </tbody>\n",
              "</table>\n"
            ],
            "text/plain": [
              "<pandas.io.formats.style.Styler at 0x7efbf4807e20>"
            ]
          },
          "execution_count": 6,
          "metadata": {},
          "output_type": "execute_result"
        }
      ],
      "source": [
        "scores_models = []\n",
        "times_models = []\n",
        "\n",
        "for bagg_mod in bagging_models:\n",
        "    n_features = bagg_mod[0][\"chi2\"]\n",
        "    model_name = list(bagg_mod[1].keys())[0]\n",
        "    f1 = bagg_mod[2][\"scores\"][\"f1_score\"]\n",
        "    acc  = bagg_mod[2][\"scores\"][\"accuracy\"]\n",
        "    prec = bagg_mod[2][\"scores\"][\"recall\"]\n",
        "    rec  = bagg_mod[2][\"scores\"][\"precision\"]\n",
        "\n",
        "\n",
        "    scores_models.append((n_features, model_name, f1, acc, prec, rec))\n",
        "\n",
        "    train = bagg_mod[-1][\"time\"][\"training\"]\n",
        "    predi = bagg_mod[-1][\"time\"][\"prediction\"]\n",
        "\n",
        "    times_models.append((train, predi))\n",
        "\n",
        "\n",
        "\n",
        "metrics_models = pd.DataFrame(scores_models, columns=[\"n_features\",\"model\",\n",
        "                                                      \"f1_score\",\"accuracy\",\n",
        "                                                      \"precision\", \"recall\"])\n",
        "\n",
        "metrics_models.set_index([\"n_features\",\"model\"], inplace=True)\n",
        "metrics_models.style.background_gradient(cmap=\"Blues\", axis=0)"
      ]
    },
    {
      "attachments": {},
      "cell_type": "markdown",
      "id": "ePPMWPxqr__c",
      "metadata": {
        "id": "ePPMWPxqr__c"
      },
      "source": [
        "If we consider only the models with the best performance for each number of features trained, Random Forest outperformed the other models in this section. Additionally, the training and testing times were measured.\n",
        "\n",
        "As expected, the simpler models (with fewer features) trained faster (size of $\\text{X\\_train} = 492813$). However, it is challenging to make the same assumption about the prediction time (see table below) since the variations observed within a few milliseconds could be influenced by the performance of the equipment used during the prediction.\n",
        "\n",
        "As mentioned earlier, the metrics such as F1-score, recall, accuracy, and precision are similar. Therefore, the best model in this case will be based on the simplest model, which is the Random Forest classifier trained with 250 features."
      ]
    },
    {
      "cell_type": "code",
      "execution_count": 7,
      "id": "C13Tra7201oI",
      "metadata": {
        "colab": {
          "base_uri": "https://localhost:8080/",
          "height": 206
        },
        "id": "C13Tra7201oI",
        "outputId": "2a64fb75-f8c5-4b3e-c9f2-2773b1d1d336"
      },
      "outputs": [
        {
          "data": {
            "text/html": [
              "<style type=\"text/css\">\n",
              "#T_ab211_row0_col0, #T_ab211_row0_col1, #T_ab211_row0_col2, #T_ab211_row0_col3, #T_ab211_row0_col4, #T_ab211_row2_col5 {\n",
              "  background-color: #08306b;\n",
              "  color: #f1f1f1;\n",
              "}\n",
              "#T_ab211_row0_col5 {\n",
              "  background-color: #3383be;\n",
              "  color: #f1f1f1;\n",
              "}\n",
              "#T_ab211_row1_col0 {\n",
              "  background-color: #3080bd;\n",
              "  color: #f1f1f1;\n",
              "}\n",
              "#T_ab211_row1_col1 {\n",
              "  background-color: #2d7dbb;\n",
              "  color: #f1f1f1;\n",
              "}\n",
              "#T_ab211_row1_col2 {\n",
              "  background-color: #2676b8;\n",
              "  color: #f1f1f1;\n",
              "}\n",
              "#T_ab211_row1_col3 {\n",
              "  background-color: #3c8cc3;\n",
              "  color: #f1f1f1;\n",
              "}\n",
              "#T_ab211_row1_col4 {\n",
              "  background-color: #4292c6;\n",
              "  color: #f1f1f1;\n",
              "}\n",
              "#T_ab211_row1_col5 {\n",
              "  background-color: #abd0e6;\n",
              "  color: #000000;\n",
              "}\n",
              "#T_ab211_row2_col0 {\n",
              "  background-color: #7fb9da;\n",
              "  color: #000000;\n",
              "}\n",
              "#T_ab211_row2_col1 {\n",
              "  background-color: #7db8da;\n",
              "  color: #000000;\n",
              "}\n",
              "#T_ab211_row2_col2 {\n",
              "  background-color: #74b3d8;\n",
              "  color: #000000;\n",
              "}\n",
              "#T_ab211_row2_col3 {\n",
              "  background-color: #8fc2de;\n",
              "  color: #000000;\n",
              "}\n",
              "#T_ab211_row2_col4 {\n",
              "  background-color: #afd1e7;\n",
              "  color: #000000;\n",
              "}\n",
              "#T_ab211_row3_col0, #T_ab211_row3_col1, #T_ab211_row3_col2, #T_ab211_row3_col3, #T_ab211_row3_col4, #T_ab211_row3_col5 {\n",
              "  background-color: #f7fbff;\n",
              "  color: #000000;\n",
              "}\n",
              "</style>\n",
              "<table id=\"T_ab211\" class=\"dataframe\">\n",
              "  <thead>\n",
              "    <tr>\n",
              "      <th class=\"blank\" >&nbsp;</th>\n",
              "      <th class=\"blank level0\" >&nbsp;</th>\n",
              "      <th id=\"T_ab211_level0_col0\" class=\"col_heading level0 col0\" >f1_score</th>\n",
              "      <th id=\"T_ab211_level0_col1\" class=\"col_heading level0 col1\" >accuracy</th>\n",
              "      <th id=\"T_ab211_level0_col2\" class=\"col_heading level0 col2\" >precision</th>\n",
              "      <th id=\"T_ab211_level0_col3\" class=\"col_heading level0 col3\" >recall</th>\n",
              "      <th id=\"T_ab211_level0_col4\" class=\"col_heading level0 col4\" >t_training</th>\n",
              "      <th id=\"T_ab211_level0_col5\" class=\"col_heading level0 col5\" >t_prediction</th>\n",
              "    </tr>\n",
              "    <tr>\n",
              "      <th class=\"index_name level0\" >model</th>\n",
              "      <th class=\"index_name level1\" >n_features</th>\n",
              "      <th class=\"blank col0\" >&nbsp;</th>\n",
              "      <th class=\"blank col1\" >&nbsp;</th>\n",
              "      <th class=\"blank col2\" >&nbsp;</th>\n",
              "      <th class=\"blank col3\" >&nbsp;</th>\n",
              "      <th class=\"blank col4\" >&nbsp;</th>\n",
              "      <th class=\"blank col5\" >&nbsp;</th>\n",
              "    </tr>\n",
              "  </thead>\n",
              "  <tbody>\n",
              "    <tr>\n",
              "      <th id=\"T_ab211_level0_row0\" class=\"row_heading level0 row0\" rowspan=\"4\">random_forest</th>\n",
              "      <th id=\"T_ab211_level1_row0\" class=\"row_heading level1 row0\" >2000</th>\n",
              "      <td id=\"T_ab211_row0_col0\" class=\"data row0 col0\" >0.958440</td>\n",
              "      <td id=\"T_ab211_row0_col1\" class=\"data row0 col1\" >0.959499</td>\n",
              "      <td id=\"T_ab211_row0_col2\" class=\"data row0 col2\" >0.957141</td>\n",
              "      <td id=\"T_ab211_row0_col3\" class=\"data row0 col3\" >0.959818</td>\n",
              "      <td id=\"T_ab211_row0_col4\" class=\"data row0 col4\" >799.223845</td>\n",
              "      <td id=\"T_ab211_row0_col5\" class=\"data row0 col5\" >3.461977</td>\n",
              "    </tr>\n",
              "    <tr>\n",
              "      <th id=\"T_ab211_level1_row1\" class=\"row_heading level1 row1\" >1000</th>\n",
              "      <td id=\"T_ab211_row1_col0\" class=\"data row1 col0\" >0.956909</td>\n",
              "      <td id=\"T_ab211_row1_col1\" class=\"data row1 col1\" >0.958022</td>\n",
              "      <td id=\"T_ab211_row1_col2\" class=\"data row1 col2\" >0.955647</td>\n",
              "      <td id=\"T_ab211_row1_col3\" class=\"data row1 col3\" >0.958245</td>\n",
              "      <td id=\"T_ab211_row1_col4\" class=\"data row1 col4\" >637.674447</td>\n",
              "      <td id=\"T_ab211_row1_col5\" class=\"data row1 col5\" >3.141531</td>\n",
              "    </tr>\n",
              "    <tr>\n",
              "      <th id=\"T_ab211_level1_row2\" class=\"row_heading level1 row2\" >500</th>\n",
              "      <td id=\"T_ab211_row2_col0\" class=\"data row2 col0\" >0.955696</td>\n",
              "      <td id=\"T_ab211_row2_col1\" class=\"data row2 col1\" >0.956786</td>\n",
              "      <td id=\"T_ab211_row2_col2\" class=\"data row2 col2\" >0.954281</td>\n",
              "      <td id=\"T_ab211_row2_col3\" class=\"data row2 col3\" >0.957194</td>\n",
              "      <td id=\"T_ab211_row2_col4\" class=\"data row2 col4\" >510.892138</td>\n",
              "      <td id=\"T_ab211_row2_col5\" class=\"data row2 col5\" >3.753146</td>\n",
              "    </tr>\n",
              "    <tr>\n",
              "      <th id=\"T_ab211_level1_row3\" class=\"row_heading level1 row3\" >250</th>\n",
              "      <td id=\"T_ab211_row3_col0\" class=\"data row3 col0\" >0.953439</td>\n",
              "      <td id=\"T_ab211_row3_col1\" class=\"data row3 col1\" >0.954523</td>\n",
              "      <td id=\"T_ab211_row3_col2\" class=\"data row3 col2\" >0.951642</td>\n",
              "      <td id=\"T_ab211_row3_col3\" class=\"data row3 col3\" >0.955364</td>\n",
              "      <td id=\"T_ab211_row3_col4\" class=\"data row3 col4\" >372.622733</td>\n",
              "      <td id=\"T_ab211_row3_col5\" class=\"data row3 col5\" >2.834109</td>\n",
              "    </tr>\n",
              "  </tbody>\n",
              "</table>\n"
            ],
            "text/plain": [
              "<pandas.io.formats.style.Styler at 0x7efcdf98fdc0>"
            ]
          },
          "execution_count": 7,
          "metadata": {},
          "output_type": "execute_result"
        }
      ],
      "source": [
        "times_best_models_by_features = pd.DataFrame(times_models,\n",
        "                                             columns = [\"t_training\",\"t_prediction\"]).iloc[[0,3,6,8]]\n",
        "\n",
        "best_models_by_features = metrics_models.loc[metrics_models.index[[0,3,6,8]]]\n",
        "\n",
        "times_best_models_by_features.reset_index(drop=True, inplace=True)\n",
        "best_models_by_features.reset_index(inplace=True)\n",
        "\n",
        "metrics_models_best = best_models_by_features.merge(times_best_models_by_features,\n",
        "                                                    left_index=True, right_index=True)\n",
        "\n",
        "metrics_models_best.set_index([\"model\", \"n_features\"], inplace = True)\n",
        "metrics_models_best.style.background_gradient(cmap=\"Blues\")"
      ]
    },
    {
      "attachments": {},
      "cell_type": "markdown",
      "id": "T1Wkcwbhvkc4",
      "metadata": {
        "id": "T1Wkcwbhvkc4"
      },
      "source": [
        "Below, you will find the classification report and confusion matrix of the best model chosen so far.\n",
        "\n",
        "It is important to note that Class 1, or \"other,\" was the majority class with 94,359 samples for testing. This class was created by merging other classes such as \"neutral\" or \"uncertainty.\" The number of samples for the negative class (0) and positive class (1) is roughly the same.\n",
        "\n",
        "Additionally, the most \"complicated\" task was to distinguish between the \"negative\" class and the \"positive\" class of the \"other\" class."
      ]
    },
    {
      "cell_type": "code",
      "execution_count": 8,
      "id": "LVaFVwX58Mb3",
      "metadata": {
        "colab": {
          "base_uri": "https://localhost:8080/"
        },
        "id": "LVaFVwX58Mb3",
        "outputId": "7a5a7a05-2162-4f43-90bc-399892040cc7"
      },
      "outputs": [
        {
          "name": "stdout",
          "output_type": "stream",
          "text": [
            "\n",
            "Random Forest using 250 features\n",
            "              precision    recall  f1-score   support\n",
            "\n",
            "           0       0.96      0.94      0.95     59765\n",
            "           1       0.95      0.97      0.96     94359\n",
            "           2       0.96      0.94      0.95     57082\n",
            "\n",
            "    accuracy                           0.95    211206\n",
            "   macro avg       0.96      0.95      0.95    211206\n",
            "weighted avg       0.95      0.95      0.95    211206\n",
            "\n"
          ]
        }
      ],
      "source": [
        "best_bagg_model = bagging_models[-2]\n",
        "print(\"\\nRandom Forest using 250 features\")\n",
        "print(best_bagg_model[2][\"scores\"][\"report\"])"
      ]
    },
    {
      "cell_type": "code",
      "execution_count": 9,
      "id": "H8ciiOxD-RQG",
      "metadata": {
        "colab": {
          "base_uri": "https://localhost:8080/",
          "height": 174
        },
        "id": "H8ciiOxD-RQG",
        "outputId": "95f50924-3f52-4e83-ed15-82763e6cb8f3"
      },
      "outputs": [
        {
          "data": {
            "text/html": [
              "<style type=\"text/css\">\n",
              "#T_3520d_row0_col0, #T_3520d_row1_col1, #T_3520d_row2_col2 {\n",
              "  background-color: #006837;\n",
              "  color: #f1f1f1;\n",
              "}\n",
              "#T_3520d_row0_col1, #T_3520d_row0_col2, #T_3520d_row2_col0, #T_3520d_row2_col1 {\n",
              "  background-color: #a50026;\n",
              "  color: #f1f1f1;\n",
              "}\n",
              "#T_3520d_row1_col0, #T_3520d_row1_col2 {\n",
              "  background-color: #a90426;\n",
              "  color: #f1f1f1;\n",
              "}\n",
              "</style>\n",
              "<table id=\"T_3520d\" class=\"dataframe\">\n",
              "  <thead>\n",
              "    <tr>\n",
              "      <th class=\"blank level0\" >&nbsp;</th>\n",
              "      <th id=\"T_3520d_level0_col0\" class=\"col_heading level0 col0\" colspan=\"3\">Confusion matrix: Random Forest using 250 features</th>\n",
              "    </tr>\n",
              "    <tr>\n",
              "      <th class=\"blank level1\" >&nbsp;</th>\n",
              "      <th id=\"T_3520d_level1_col0\" class=\"col_heading level1 col0\" >Negative</th>\n",
              "      <th id=\"T_3520d_level1_col1\" class=\"col_heading level1 col1\" >Other</th>\n",
              "      <th id=\"T_3520d_level1_col2\" class=\"col_heading level1 col2\" >Positive</th>\n",
              "    </tr>\n",
              "  </thead>\n",
              "  <tbody>\n",
              "    <tr>\n",
              "      <th id=\"T_3520d_level0_row0\" class=\"row_heading level0 row0\" >Negative</th>\n",
              "      <td id=\"T_3520d_row0_col0\" class=\"data row0 col0\" >56358</td>\n",
              "      <td id=\"T_3520d_row0_col1\" class=\"data row0 col1\" >2508</td>\n",
              "      <td id=\"T_3520d_row0_col2\" class=\"data row0 col2\" >899</td>\n",
              "    </tr>\n",
              "    <tr>\n",
              "      <th id=\"T_3520d_level0_row1\" class=\"row_heading level0 row1\" >Other</th>\n",
              "      <td id=\"T_3520d_row1_col0\" class=\"data row1 col0\" >1586</td>\n",
              "      <td id=\"T_3520d_row1_col1\" class=\"data row1 col1\" >91395</td>\n",
              "      <td id=\"T_3520d_row1_col2\" class=\"data row1 col2\" >1378</td>\n",
              "    </tr>\n",
              "    <tr>\n",
              "      <th id=\"T_3520d_level0_row2\" class=\"row_heading level0 row2\" >Positive</th>\n",
              "      <td id=\"T_3520d_row2_col0\" class=\"data row2 col0\" >1022</td>\n",
              "      <td id=\"T_3520d_row2_col1\" class=\"data row2 col1\" >2212</td>\n",
              "      <td id=\"T_3520d_row2_col2\" class=\"data row2 col2\" >53848</td>\n",
              "    </tr>\n",
              "  </tbody>\n",
              "</table>\n"
            ],
            "text/plain": [
              "<pandas.io.formats.style.Styler at 0x7efbf48397b0>"
            ]
          },
          "execution_count": 9,
          "metadata": {},
          "output_type": "execute_result"
        }
      ],
      "source": [
        "confusion_matrix_best_bagg = best_bagg_model[2][\"scores\"][\"cm\"]\n",
        "\n",
        "multi_index_cols = pd.MultiIndex.from_product([[\"Confusion matrix: Random Forest using 250 features\"],\n",
        "                                               [\"Negative\",\"Other\",\"Positive\"]])\n",
        "confusion_matrix_best_bagg.columns = multi_index_cols\n",
        "confusion_matrix_best_bagg.index = [\"Negative\",\"Other\",\"Positive\"]\n",
        "\n",
        "confusion_matrix_best_bagg.style.background_gradient(cmap=\"RdYlGn\")"
      ]
    },
    {
      "attachments": {},
      "cell_type": "markdown",
      "id": "L-_5jVQAO70u",
      "metadata": {
        "id": "L-_5jVQAO70u"
      },
      "source": [
        "### Best model (boosting)"
      ]
    },
    {
      "attachments": {},
      "cell_type": "markdown",
      "id": "-IsIkXP0yUw8",
      "metadata": {
        "id": "-IsIkXP0yUw8"
      },
      "source": [
        "Now it's time to see the performance of _xgboost_.\n",
        "\n",
        "Again, performance is similar across the selected features, and the training time is reduced as fewer features are used. However, the prediction time on our testing data set appears to be the same."
      ]
    },
    {
      "cell_type": "code",
      "execution_count": 10,
      "id": "uk5dCyt_FJGd",
      "metadata": {
        "colab": {
          "base_uri": "https://localhost:8080/",
          "height": 206
        },
        "id": "uk5dCyt_FJGd",
        "outputId": "c35871b5-0e4a-4e1f-e2c4-fbfe6c22e8bf"
      },
      "outputs": [
        {
          "data": {
            "text/html": [
              "<style type=\"text/css\">\n",
              "#T_25238_row0_col0, #T_25238_row0_col1, #T_25238_row0_col2, #T_25238_row0_col3, #T_25238_row0_col4, #T_25238_row3_col5 {\n",
              "  background-color: #08306b;\n",
              "  color: #f1f1f1;\n",
              "}\n",
              "#T_25238_row0_col5, #T_25238_row2_col4 {\n",
              "  background-color: #d0e2f2;\n",
              "  color: #000000;\n",
              "}\n",
              "#T_25238_row1_col0 {\n",
              "  background-color: #2373b6;\n",
              "  color: #f1f1f1;\n",
              "}\n",
              "#T_25238_row1_col1 {\n",
              "  background-color: #2171b5;\n",
              "  color: #f1f1f1;\n",
              "}\n",
              "#T_25238_row1_col2 {\n",
              "  background-color: #1c6ab0;\n",
              "  color: #f1f1f1;\n",
              "}\n",
              "#T_25238_row1_col3 {\n",
              "  background-color: #3484bf;\n",
              "  color: #f1f1f1;\n",
              "}\n",
              "#T_25238_row1_col4 {\n",
              "  background-color: #64a9d3;\n",
              "  color: #f1f1f1;\n",
              "}\n",
              "#T_25238_row1_col5, #T_25238_row2_col3, #T_25238_row3_col0, #T_25238_row3_col1, #T_25238_row3_col2, #T_25238_row3_col4 {\n",
              "  background-color: #f7fbff;\n",
              "  color: #000000;\n",
              "}\n",
              "#T_25238_row2_col0 {\n",
              "  background-color: #d3e4f3;\n",
              "  color: #000000;\n",
              "}\n",
              "#T_25238_row2_col1 {\n",
              "  background-color: #caddf0;\n",
              "  color: #000000;\n",
              "}\n",
              "#T_25238_row2_col2 {\n",
              "  background-color: #b9d6ea;\n",
              "  color: #000000;\n",
              "}\n",
              "#T_25238_row2_col5 {\n",
              "  background-color: #71b1d7;\n",
              "  color: #f1f1f1;\n",
              "}\n",
              "#T_25238_row3_col3 {\n",
              "  background-color: #dfebf7;\n",
              "  color: #000000;\n",
              "}\n",
              "</style>\n",
              "<table id=\"T_25238\" class=\"dataframe\">\n",
              "  <thead>\n",
              "    <tr>\n",
              "      <th class=\"blank\" >&nbsp;</th>\n",
              "      <th class=\"blank level0\" >&nbsp;</th>\n",
              "      <th id=\"T_25238_level0_col0\" class=\"col_heading level0 col0\" >f1_score</th>\n",
              "      <th id=\"T_25238_level0_col1\" class=\"col_heading level0 col1\" >accuracy</th>\n",
              "      <th id=\"T_25238_level0_col2\" class=\"col_heading level0 col2\" >precision</th>\n",
              "      <th id=\"T_25238_level0_col3\" class=\"col_heading level0 col3\" >recall</th>\n",
              "      <th id=\"T_25238_level0_col4\" class=\"col_heading level0 col4\" >t_training</th>\n",
              "      <th id=\"T_25238_level0_col5\" class=\"col_heading level0 col5\" >t_prediction</th>\n",
              "    </tr>\n",
              "    <tr>\n",
              "      <th class=\"index_name level0\" >n_features</th>\n",
              "      <th class=\"index_name level1\" >model</th>\n",
              "      <th class=\"blank col0\" >&nbsp;</th>\n",
              "      <th class=\"blank col1\" >&nbsp;</th>\n",
              "      <th class=\"blank col2\" >&nbsp;</th>\n",
              "      <th class=\"blank col3\" >&nbsp;</th>\n",
              "      <th class=\"blank col4\" >&nbsp;</th>\n",
              "      <th class=\"blank col5\" >&nbsp;</th>\n",
              "    </tr>\n",
              "  </thead>\n",
              "  <tbody>\n",
              "    <tr>\n",
              "      <th id=\"T_25238_level0_row0\" class=\"row_heading level0 row0\" >2000</th>\n",
              "      <th id=\"T_25238_level1_row0\" class=\"row_heading level1 row0\" >xgb</th>\n",
              "      <td id=\"T_25238_row0_col0\" class=\"data row0 col0\" >0.959417</td>\n",
              "      <td id=\"T_25238_row0_col1\" class=\"data row0 col1\" >0.960323</td>\n",
              "      <td id=\"T_25238_row0_col2\" class=\"data row0 col2\" >0.958034</td>\n",
              "      <td id=\"T_25238_row0_col3\" class=\"data row0 col3\" >0.960890</td>\n",
              "      <td id=\"T_25238_row0_col4\" class=\"data row0 col4\" >740.922689</td>\n",
              "      <td id=\"T_25238_row0_col5\" class=\"data row0 col5\" >19.833372</td>\n",
              "    </tr>\n",
              "    <tr>\n",
              "      <th id=\"T_25238_level0_row1\" class=\"row_heading level0 row1\" >1000</th>\n",
              "      <th id=\"T_25238_level1_row1\" class=\"row_heading level1 row1\" >xgb</th>\n",
              "      <td id=\"T_25238_row1_col0\" class=\"data row1 col0\" >0.958961</td>\n",
              "      <td id=\"T_25238_row1_col1\" class=\"data row1 col1\" >0.959859</td>\n",
              "      <td id=\"T_25238_row1_col2\" class=\"data row1 col2\" >0.957480</td>\n",
              "      <td id=\"T_25238_row1_col3\" class=\"data row1 col3\" >0.960541</td>\n",
              "      <td id=\"T_25238_row1_col4\" class=\"data row1 col4\" >474.911145</td>\n",
              "      <td id=\"T_25238_row1_col5\" class=\"data row1 col5\" >19.671304</td>\n",
              "    </tr>\n",
              "    <tr>\n",
              "      <th id=\"T_25238_level0_row2\" class=\"row_heading level0 row2\" >500</th>\n",
              "      <th id=\"T_25238_level1_row2\" class=\"row_heading level1 row2\" >xgb</th>\n",
              "      <td id=\"T_25238_row2_col0\" class=\"data row2 col0\" >0.957982</td>\n",
              "      <td id=\"T_25238_row2_col1\" class=\"data row2 col1\" >0.958912</td>\n",
              "      <td id=\"T_25238_row2_col2\" class=\"data row2 col2\" >0.956279</td>\n",
              "      <td id=\"T_25238_row2_col3\" class=\"data row2 col3\" >0.959810</td>\n",
              "      <td id=\"T_25238_row2_col4\" class=\"data row2 col4\" >293.841939</td>\n",
              "      <td id=\"T_25238_row2_col5\" class=\"data row2 col5\" >20.070977</td>\n",
              "    </tr>\n",
              "    <tr>\n",
              "      <th id=\"T_25238_level0_row3\" class=\"row_heading level0 row3\" >250</th>\n",
              "      <th id=\"T_25238_level1_row3\" class=\"row_heading level1 row3\" >xgb</th>\n",
              "      <td id=\"T_25238_row3_col0\" class=\"data row3 col0\" >0.957660</td>\n",
              "      <td id=\"T_25238_row3_col1\" class=\"data row3 col1\" >0.958486</td>\n",
              "      <td id=\"T_25238_row3_col2\" class=\"data row3 col2\" >0.955557</td>\n",
              "      <td id=\"T_25238_row3_col3\" class=\"data row3 col3\" >0.959944</td>\n",
              "      <td id=\"T_25238_row3_col4\" class=\"data row3 col4\" >183.963725</td>\n",
              "      <td id=\"T_25238_row3_col5\" class=\"data row3 col5\" >20.495082</td>\n",
              "    </tr>\n",
              "  </tbody>\n",
              "</table>\n"
            ],
            "text/plain": [
              "<pandas.io.formats.style.Styler at 0x7efc9f066c20>"
            ]
          },
          "execution_count": 10,
          "metadata": {},
          "output_type": "execute_result"
        }
      ],
      "source": [
        "scores_models = []\n",
        "times_models = []\n",
        "\n",
        "for boos_mod in boosting_models:\n",
        "    n_features = boos_mod[0][\"chi2\"]\n",
        "    model_name = list(boos_mod[1].keys())[0]\n",
        "    f1 = boos_mod[2][\"scores\"][\"f1_score\"]\n",
        "    acc  = boos_mod[2][\"scores\"][\"accuracy\"]\n",
        "    prec = boos_mod[2][\"scores\"][\"recall\"]\n",
        "    rec  = boos_mod[2][\"scores\"][\"precision\"]\n",
        "\n",
        "    scores_models.append((n_features, model_name, f1, acc, prec, rec))\n",
        "\n",
        "    train = boos_mod[-1][\"time\"][\"training\"]\n",
        "    predi = boos_mod[-1][\"time\"][\"prediction\"]\n",
        "\n",
        "    times_models.append((train, predi))\n",
        "\n",
        "\n",
        "\n",
        "metrics_models = pd.DataFrame(scores_models, columns=[\"n_features\",\"model\",\n",
        "                                                  \"f1_score\",\"accuracy\",\n",
        "                                                  \"precision\", \"recall\"])\n",
        "\n",
        "times_models = pd.DataFrame(times_models, columns = [\"t_training\",\"t_prediction\"])\n",
        "\n",
        "metrics_models = metrics_models.merge(times_models, left_index=True,\n",
        "                                      right_index=True)\n",
        "\n",
        "metrics_models.set_index([\"n_features\",\"model\"], inplace=True)\n",
        "metrics_models.style.background_gradient(cmap=\"Blues\", axis=0)"
      ]
    },
    {
      "attachments": {},
      "cell_type": "markdown",
      "id": "4Rb1xefMzst7",
      "metadata": {
        "id": "4Rb1xefMzst7"
      },
      "source": [
        "Below, the classification report and confusion matrix are shown for the best model in this section, which is _XGBoost_ with 250 features.\n",
        "\n",
        "Similar to _Random Forest_, distinguishing between \"positive\" and \"other\" and \"negative\" and \"other\" were the most \"challenging\" tasks."
      ]
    },
    {
      "cell_type": "code",
      "execution_count": 11,
      "id": "ECGOvEpoTTgI",
      "metadata": {
        "colab": {
          "base_uri": "https://localhost:8080/"
        },
        "id": "ECGOvEpoTTgI",
        "outputId": "ef108508-ba04-404b-ab2d-e8089ecbb023"
      },
      "outputs": [
        {
          "name": "stdout",
          "output_type": "stream",
          "text": [
            "\n",
            "XGB using 250 features\n",
            "              precision    recall  f1-score   support\n",
            "\n",
            "           0       0.97      0.94      0.95     59765\n",
            "           1       0.95      0.97      0.96     94359\n",
            "           2       0.96      0.95      0.96     57082\n",
            "\n",
            "    accuracy                           0.96    211206\n",
            "   macro avg       0.96      0.96      0.96    211206\n",
            "weighted avg       0.96      0.96      0.96    211206\n",
            "\n"
          ]
        }
      ],
      "source": [
        "best_boss_model = boosting_models[-1]\n",
        "\n",
        "print(\"\\nXGB using 250 features\")\n",
        "print(best_boss_model[2][\"scores\"][\"report\"])"
      ]
    },
    {
      "cell_type": "code",
      "execution_count": 13,
      "id": "d5nQajU9TXus",
      "metadata": {
        "colab": {
          "base_uri": "https://localhost:8080/",
          "height": 174
        },
        "id": "d5nQajU9TXus",
        "outputId": "4dacc822-4c2d-400b-b4cd-007f69fe06d7"
      },
      "outputs": [
        {
          "data": {
            "text/html": [
              "<style type=\"text/css\">\n",
              "#T_ba471_row0_col0, #T_ba471_row1_col1, #T_ba471_row2_col2 {\n",
              "  background-color: #006837;\n",
              "  color: #f1f1f1;\n",
              "}\n",
              "#T_ba471_row0_col1, #T_ba471_row1_col0 {\n",
              "  background-color: #a70226;\n",
              "  color: #f1f1f1;\n",
              "}\n",
              "#T_ba471_row0_col2, #T_ba471_row2_col0, #T_ba471_row2_col1 {\n",
              "  background-color: #a50026;\n",
              "  color: #f1f1f1;\n",
              "}\n",
              "#T_ba471_row1_col2 {\n",
              "  background-color: #a90426;\n",
              "  color: #f1f1f1;\n",
              "}\n",
              "</style>\n",
              "<table id=\"T_ba471\" class=\"dataframe\">\n",
              "  <thead>\n",
              "    <tr>\n",
              "      <th class=\"blank level0\" >&nbsp;</th>\n",
              "      <th id=\"T_ba471_level0_col0\" class=\"col_heading level0 col0\" colspan=\"3\">Confusion matrix: XGB using 250 features</th>\n",
              "    </tr>\n",
              "    <tr>\n",
              "      <th class=\"blank level1\" >&nbsp;</th>\n",
              "      <th id=\"T_ba471_level1_col0\" class=\"col_heading level1 col0\" >Negative</th>\n",
              "      <th id=\"T_ba471_level1_col1\" class=\"col_heading level1 col1\" >Other</th>\n",
              "      <th id=\"T_ba471_level1_col2\" class=\"col_heading level1 col2\" >Positive</th>\n",
              "    </tr>\n",
              "  </thead>\n",
              "  <tbody>\n",
              "    <tr>\n",
              "      <th id=\"T_ba471_level0_row0\" class=\"row_heading level0 row0\" >Negative</th>\n",
              "      <td id=\"T_ba471_row0_col0\" class=\"data row0 col0\" >56477</td>\n",
              "      <td id=\"T_ba471_row0_col1\" class=\"data row0 col1\" >2520</td>\n",
              "      <td id=\"T_ba471_row0_col2\" class=\"data row0 col2\" >768</td>\n",
              "    </tr>\n",
              "    <tr>\n",
              "      <th id=\"T_ba471_level0_row1\" class=\"row_heading level0 row1\" >Other</th>\n",
              "      <td id=\"T_ba471_row1_col0\" class=\"data row1 col0\" >1226</td>\n",
              "      <td id=\"T_ba471_row1_col1\" class=\"data row1 col1\" >91803</td>\n",
              "      <td id=\"T_ba471_row1_col2\" class=\"data row1 col2\" >1330</td>\n",
              "    </tr>\n",
              "    <tr>\n",
              "      <th id=\"T_ba471_level0_row2\" class=\"row_heading level0 row2\" >Positive</th>\n",
              "      <td id=\"T_ba471_row2_col0\" class=\"data row2 col0\" >814</td>\n",
              "      <td id=\"T_ba471_row2_col1\" class=\"data row2 col1\" >2110</td>\n",
              "      <td id=\"T_ba471_row2_col2\" class=\"data row2 col2\" >54158</td>\n",
              "    </tr>\n",
              "  </tbody>\n",
              "</table>\n"
            ],
            "text/plain": [
              "<pandas.io.formats.style.Styler at 0x7efc9f067b50>"
            ]
          },
          "execution_count": 13,
          "metadata": {},
          "output_type": "execute_result"
        }
      ],
      "source": [
        "confusion_matrix_best_boss = best_boss_model[2][\"scores\"][\"cm\"]\n",
        "\n",
        "multi_index_cols = pd.MultiIndex.from_product([[\"Confusion matrix: XGB using 250 features\"],\n",
        "                                               [\"Negative\",\"Other\",\"Positive\"]])\n",
        "\n",
        "confusion_matrix_best_boss.index = [\"Negative\",\"Other\",\"Positive\"]\n",
        "confusion_matrix_best_boss.columns = multi_index_cols\n",
        "\n",
        "confusion_matrix_best_boss.style.background_gradient(cmap=\"RdYlGn\")\n"
      ]
    },
    {
      "attachments": {},
      "cell_type": "markdown",
      "id": "3RP3goB50rHD",
      "metadata": {
        "id": "3RP3goB50rHD"
      },
      "source": [
        "Both _Random Forest_ and _XGBoost_ (best models) performed well in the classification problem, with _XGBoost_ slightly outperforming _Random Forest_ (a difference in f1-score of 0.01). However, the prediction time on the same testing data was slower for _XGBoost_, so I am inclined to choose _Random Forest_ as our winner!\n",
        "\n",
        "Moreover, the _Random Forest_ model is already doing an excellent job in classifying the polarity of the sentences, so I don't see a need for hyperparameter tuning"
      ]
    },
    {
      "attachments": {},
      "cell_type": "markdown",
      "id": "mPgZUM5bPyAb",
      "metadata": {
        "id": "mPgZUM5bPyAb"
      },
      "source": [
        "## Creating Pipeline and saving"
      ]
    },
    {
      "attachments": {},
      "cell_type": "markdown",
      "id": "fskFFy-l1ufy",
      "metadata": {
        "id": "fskFFy-l1ufy"
      },
      "source": [
        "Finally, the vectorizer, feature selector and our best model will be serialized to be used later."
      ]
    },
    {
      "cell_type": "code",
      "execution_count": 19,
      "id": "eU-reRvtFMTL",
      "metadata": {
        "id": "eU-reRvtFMTL"
      },
      "outputs": [],
      "source": [
        "input_data = Xy_data[\"comment\"].apply(\" \".join)\n",
        "\n",
        "# Vectorization section\n",
        "tfidf_model_fitted = TfidfVectorizer(min_df = 10).fit(input_data)\n",
        "X_vect = tfidf_model_fitted.transform(input_data)\n",
        "\n",
        "# Feature selection section\n",
        "chi2_model_fitted = SelectKBest(chi2, k = 250).fit(X_vect, Xy_data[\"class\"])\n",
        "\n",
        "# Best Model selection section\n",
        "best_model = best_bagg_model[1][\"random_forest\"]\n",
        "\n",
        "# Saving all the steps in the pipeline to predict\n",
        "\n",
        "with open(\"models/01_tfidf_vectorizer_fitted.joblib\", \"wb\") as vFile:\n",
        "    joblib.dump(tfidf_model_fitted, vFile)\n",
        "\n",
        "with open(\"models/02_chi2_250_feature_selector_fitted.joblib\", \"wb\") as fsFile:\n",
        "    joblib.dump(chi2_model_fitted, fsFile)\n",
        "\n",
        "with open(\"models/03_random_forest_model_fitted.joblib\", \"wb\") as bmFile:\n",
        "    joblib.dump(best_model, bmFile)"
      ]
    }
  ],
  "metadata": {
    "accelerator": "GPU",
    "colab": {
      "gpuType": "T4",
      "provenance": []
    },
    "kernelspec": {
      "display_name": "Python 3 (ipykernel)",
      "language": "python",
      "name": "python3"
    },
    "language_info": {
      "codemirror_mode": {
        "name": "ipython",
        "version": 3
      },
      "file_extension": ".py",
      "mimetype": "text/x-python",
      "name": "python",
      "nbconvert_exporter": "python",
      "pygments_lexer": "ipython3",
      "version": "3.10.10"
    }
  },
  "nbformat": 4,
  "nbformat_minor": 5
}
